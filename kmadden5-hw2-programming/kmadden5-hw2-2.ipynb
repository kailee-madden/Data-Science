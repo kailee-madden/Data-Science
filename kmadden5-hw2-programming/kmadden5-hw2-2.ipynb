{
 "cells": [
  {
   "cell_type": "code",
   "execution_count": 3,
   "metadata": {},
   "outputs": [],
   "source": [
    "import numpy as np \n",
    "import pandas as pd\n",
    "import matplotlib.pyplot as plt\n",
    "import sklearn\n",
    "from sklearn import metrics\n",
    "from sklearn.metrics import precision_score, recall_score, f1_score\n",
    "from pandas import Series, DataFrame\n",
    "import scipy\n",
    "from scipy import stats\n",
    "import math"
   ]
  },
  {
   "cell_type": "code",
   "execution_count": 4,
   "metadata": {},
   "outputs": [],
   "source": [
    "%matplotlib inline"
   ]
  },
  {
   "cell_type": "code",
   "execution_count": 5,
   "metadata": {},
   "outputs": [],
   "source": [
    "train = pd.read_csv(\"Dataset-football-train.txt\", delimiter=\"\\t\")"
   ]
  },
  {
   "cell_type": "code",
   "execution_count": 93,
   "metadata": {},
   "outputs": [
    {
     "data": {
      "text/html": [
       "<div>\n",
       "<style scoped>\n",
       "    .dataframe tbody tr th:only-of-type {\n",
       "        vertical-align: middle;\n",
       "    }\n",
       "\n",
       "    .dataframe tbody tr th {\n",
       "        vertical-align: top;\n",
       "    }\n",
       "\n",
       "    .dataframe thead th {\n",
       "        text-align: right;\n",
       "    }\n",
       "</style>\n",
       "<table border=\"1\" class=\"dataframe\">\n",
       "  <thead>\n",
       "    <tr style=\"text-align: right;\">\n",
       "      <th></th>\n",
       "      <th>ID</th>\n",
       "      <th>Date</th>\n",
       "      <th>Opponent</th>\n",
       "      <th>Is_Home_or_Away</th>\n",
       "      <th>Is_Opponent_in_AP25_Preseason</th>\n",
       "      <th>Media</th>\n",
       "      <th>Label</th>\n",
       "    </tr>\n",
       "  </thead>\n",
       "  <tbody>\n",
       "    <tr>\n",
       "      <th>0</th>\n",
       "      <td>1</td>\n",
       "      <td>sept_15</td>\n",
       "      <td>Texas</td>\n",
       "      <td>Home</td>\n",
       "      <td>Out</td>\n",
       "      <td>NBC</td>\n",
       "      <td>Win</td>\n",
       "    </tr>\n",
       "    <tr>\n",
       "      <th>1</th>\n",
       "      <td>2</td>\n",
       "      <td>sept_15</td>\n",
       "      <td>Virginia</td>\n",
       "      <td>Away</td>\n",
       "      <td>Out</td>\n",
       "      <td>ABC</td>\n",
       "      <td>Win</td>\n",
       "    </tr>\n",
       "    <tr>\n",
       "      <th>2</th>\n",
       "      <td>3</td>\n",
       "      <td>sept_15</td>\n",
       "      <td>Georgia Tech</td>\n",
       "      <td>Home</td>\n",
       "      <td>In</td>\n",
       "      <td>NBC</td>\n",
       "      <td>Win</td>\n",
       "    </tr>\n",
       "    <tr>\n",
       "      <th>3</th>\n",
       "      <td>4</td>\n",
       "      <td>sept_15</td>\n",
       "      <td>UMass</td>\n",
       "      <td>Home</td>\n",
       "      <td>Out</td>\n",
       "      <td>NBC</td>\n",
       "      <td>Win</td>\n",
       "    </tr>\n",
       "    <tr>\n",
       "      <th>4</th>\n",
       "      <td>5</td>\n",
       "      <td>oct_15</td>\n",
       "      <td>Clemson</td>\n",
       "      <td>Away</td>\n",
       "      <td>In</td>\n",
       "      <td>ABC</td>\n",
       "      <td>Lose</td>\n",
       "    </tr>\n",
       "  </tbody>\n",
       "</table>\n",
       "</div>"
      ],
      "text/plain": [
       "   ID     Date      Opponent Is_Home_or_Away Is_Opponent_in_AP25_Preseason  \\\n",
       "0   1  sept_15         Texas            Home                           Out   \n",
       "1   2  sept_15      Virginia            Away                           Out   \n",
       "2   3  sept_15  Georgia Tech            Home                            In   \n",
       "3   4  sept_15         UMass            Home                           Out   \n",
       "4   5   oct_15       Clemson            Away                            In   \n",
       "\n",
       "  Media Label  \n",
       "0   NBC   Win  \n",
       "1   ABC   Win  \n",
       "2   NBC   Win  \n",
       "3   NBC   Win  \n",
       "4   ABC  Lose  "
      ]
     },
     "execution_count": 93,
     "metadata": {},
     "output_type": "execute_result"
    }
   ],
   "source": [
    "train.head()"
   ]
  },
  {
   "cell_type": "code",
   "execution_count": 6,
   "metadata": {},
   "outputs": [],
   "source": [
    "test = pd.read_csv(\"Dataset-football-test.txt\", delimiter=\"\\t\")"
   ]
  },
  {
   "cell_type": "markdown",
   "metadata": {},
   "source": [
    "Now we create the functions for information gain, split information, and gain ratio."
   ]
  },
  {
   "cell_type": "code",
   "execution_count": 13,
   "metadata": {},
   "outputs": [],
   "source": [
    "from collections import defaultdict\n",
    "def information_gain(column_x, column_y, yes_label, no_label):\n",
    "    yes = 0\n",
    "    no = 0\n",
    "    for item in column_y:\n",
    "        if item == yes_label:\n",
    "            yes += 1\n",
    "        else:\n",
    "            no += 1\n",
    "    try:\n",
    "        hy1 = (-float(yes)/len(column_y))* math.log(float(yes)/len(column_y), 2)\n",
    "    except:\n",
    "        hy1=0\n",
    "    try:\n",
    "        hy2 = (-float(no)/len(column_y))*math.log(float(no)/len(column_y), 2)\n",
    "    except:\n",
    "        hy2=0\n",
    "    H_Y = hy1 + hy2\n",
    "    options = defaultdict(list)\n",
    "    for index, item in enumerate(column_x):\n",
    "        options[item].append(index)\n",
    "     \n",
    "    y_given_x = 0\n",
    "    for item in options:\n",
    "        y = 0\n",
    "        n = 0\n",
    "        for index in options[item]:\n",
    "            if column_y[index] == yes_label:\n",
    "                y += 1\n",
    "            else: \n",
    "                n += 1\n",
    "                \n",
    "        try:\n",
    "            y_given_x_yes = (float(y)/len(column_x))*(-float(y)/len(item))* (math.log(float(y)/len(item), 2))\n",
    "        except:\n",
    "            y_given_x_yes = 0\n",
    "        try:\n",
    "            y_given_x_no = (float(n)/len(column_x))*(-float(n)/len(item))* (math.log(float(n)/len(item), 2))\n",
    "        except:\n",
    "            y_given_x_no = 0\n",
    "        y_given_x += y_given_x_yes + y_given_x_no\n",
    "    information_gain = abs(H_Y - y_given_x)\n",
    "    return information_gain"
   ]
  },
  {
   "cell_type": "code",
   "execution_count": 38,
   "metadata": {},
   "outputs": [],
   "source": [
    "def split_info(column_x):\n",
    "    splitinfo = 0\n",
    "    unique_values = set()\n",
    "    for item in column_x:\n",
    "        unique_values.add(item)\n",
    "    for value in unique_values:\n",
    "        count = 0\n",
    "        for x in column_x:\n",
    "            if value == x:\n",
    "                count += 1\n",
    "        try:\n",
    "            splitinfo -= (float(count)/len(column_x)) * (math.log(float(count)/len(column_x), 2))\n",
    "        except:\n",
    "            continue\n",
    "    return splitinfo "
   ]
  },
  {
   "cell_type": "code",
   "execution_count": 53,
   "metadata": {},
   "outputs": [],
   "source": [
    "def gain_ratio(informationgain, splitinformation):\n",
    "    try:\n",
    "        gain = float(informationgain)/splitinformation\n",
    "    except:\n",
    "        gain = 0\n",
    "    print(gain)\n",
    "    return"
   ]
  },
  {
   "cell_type": "markdown",
   "metadata": {},
   "source": [
    "The dates are exact, so I decided to sort them into buckets based on month and year. This way if we actually split on date it is information that might be helpful in predicting. Otherwise, since there's no way the team would play two games on one day, the date would never be useful."
   ]
  },
  {
   "cell_type": "code",
   "execution_count": 10,
   "metadata": {},
   "outputs": [
    {
     "name": "stderr",
     "output_type": "stream",
     "text": [
      "/Users/kailee/anaconda/envs/py36/lib/python3.6/site-packages/ipykernel_launcher.py:4: SettingWithCopyWarning: \n",
      "A value is trying to be set on a copy of a slice from a DataFrame\n",
      "\n",
      "See the caveats in the documentation: http://pandas.pydata.org/pandas-docs/stable/indexing.html#indexing-view-versus-copy\n",
      "  after removing the cwd from sys.path.\n",
      "/Users/kailee/anaconda/envs/py36/lib/python3.6/site-packages/ipykernel_launcher.py:8: SettingWithCopyWarning: \n",
      "A value is trying to be set on a copy of a slice from a DataFrame\n",
      "\n",
      "See the caveats in the documentation: http://pandas.pydata.org/pandas-docs/stable/indexing.html#indexing-view-versus-copy\n",
      "  \n",
      "/Users/kailee/anaconda/envs/py36/lib/python3.6/site-packages/ipykernel_launcher.py:12: SettingWithCopyWarning: \n",
      "A value is trying to be set on a copy of a slice from a DataFrame\n",
      "\n",
      "See the caveats in the documentation: http://pandas.pydata.org/pandas-docs/stable/indexing.html#indexing-view-versus-copy\n",
      "  if sys.path[0] == '':\n",
      "/Users/kailee/anaconda/envs/py36/lib/python3.6/site-packages/ipykernel_launcher.py:6: SettingWithCopyWarning: \n",
      "A value is trying to be set on a copy of a slice from a DataFrame\n",
      "\n",
      "See the caveats in the documentation: http://pandas.pydata.org/pandas-docs/stable/indexing.html#indexing-view-versus-copy\n",
      "  \n",
      "/Users/kailee/anaconda/envs/py36/lib/python3.6/site-packages/ipykernel_launcher.py:10: SettingWithCopyWarning: \n",
      "A value is trying to be set on a copy of a slice from a DataFrame\n",
      "\n",
      "See the caveats in the documentation: http://pandas.pydata.org/pandas-docs/stable/indexing.html#indexing-view-versus-copy\n",
      "  # Remove the CWD from sys.path while we load stuff.\n",
      "/Users/kailee/anaconda/envs/py36/lib/python3.6/site-packages/ipykernel_launcher.py:14: SettingWithCopyWarning: \n",
      "A value is trying to be set on a copy of a slice from a DataFrame\n",
      "\n",
      "See the caveats in the documentation: http://pandas.pydata.org/pandas-docs/stable/indexing.html#indexing-view-versus-copy\n",
      "  \n"
     ]
    }
   ],
   "source": [
    "i = 0\n",
    "for item in train[\"Date\"]:\n",
    "    if item[0] == \"9\" and item[len(item)-1] ==\"5\":\n",
    "        train[\"Date\"][i] = \"sept_15\"\n",
    "    elif item[0] == \"9\" and item[len(item)-1] ==\"6\":\n",
    "        train[\"Date\"][i] = \"sept_16\"\n",
    "    elif item[1] == \"0\" and item[len(item)-1] ==\"5\":\n",
    "        train[\"Date\"][i] = \"oct_15\"\n",
    "    elif item[1] == \"0\" and item[len(item)-1] ==\"6\":\n",
    "        train[\"Date\"][i] = \"oct_16\"\n",
    "    elif item[1] == \"1\" and item[len(item)-1] ==\"5\":\n",
    "        train[\"Date\"][i] = \"nov_15\"\n",
    "    else:\n",
    "        train[\"Date\"][i] = \"nov_16\"\n",
    "    i += 1"
   ]
  },
  {
   "cell_type": "markdown",
   "metadata": {},
   "source": [
    "I turn all of the feature columns into lists so that they are in the proper format to go into my information gain function."
   ]
  },
  {
   "cell_type": "code",
   "execution_count": 11,
   "metadata": {},
   "outputs": [],
   "source": [
    "Label = list(train[\"Label\"])\n",
    "Media = list(train[\"Media\"])\n",
    "H_A = list(train[\"Is_Home_or_Away\"])\n",
    "Date = list(train[\"Date\"])\n",
    "Preseason = list(train[\"Is_Opponent_in_AP25_Preseason\"])\n",
    "Opponent = list(train[\"Opponent\"])"
   ]
  },
  {
   "cell_type": "markdown",
   "metadata": {},
   "source": [
    "Now we will find the gain ratio for all the features."
   ]
  },
  {
   "cell_type": "code",
   "execution_count": 39,
   "metadata": {},
   "outputs": [
    {
     "name": "stdout",
     "output_type": "stream",
     "text": [
      "GR for Media is:\n",
      "2.2728038661523553\n",
      "GR for H_A is:\n",
      "2.6450734821292787\n",
      "GR for Date is:\n",
      "0.19008987542825642\n",
      "GR for Preseason is:\n",
      "6.802739132585862\n",
      "GR for Opponent is:\n",
      "0.1333979174226363\n"
     ]
    }
   ],
   "source": [
    "print(\"GR for Media is:\")\n",
    "gain_ratio(information_gain(Media, Label, \"Win\", \"Lose\"), split_info(Media))\n",
    "print(\"GR for H_A is:\")\n",
    "gain_ratio(information_gain(H_A, Label, \"Win\", \"Lose\"), split_info(H_A))\n",
    "print(\"GR for Date is:\")\n",
    "gain_ratio(information_gain(Date, Label, \"Win\", \"Lose\"), split_info(Date))\n",
    "print(\"GR for Preseason is:\")\n",
    "gain_ratio(information_gain(Preseason, Label, \"Win\", \"Lose\"), split_info(Preseason))\n",
    "print(\"GR for Opponent is:\")\n",
    "gain_ratio(information_gain(Opponent, Label, \"Win\", \"Lose\"), split_info(Opponent))"
   ]
  },
  {
   "cell_type": "markdown",
   "metadata": {},
   "source": [
    "Preseason has the highest gain ratio, so that is what we will branch on. This means that we need to sort all our other values into either branch 1 or branch 2 depending on whether they were in or out of the preseason."
   ]
  },
  {
   "cell_type": "code",
   "execution_count": 40,
   "metadata": {},
   "outputs": [],
   "source": [
    "Media1 = []\n",
    "H_A1 = []\n",
    "Date1 = []\n",
    "Opponent1 = []\n",
    "Label1 = []\n",
    "Media2 = []\n",
    "H_A2 = []\n",
    "Date2 = []\n",
    "Opponent2 = []\n",
    "Label2 = []\n",
    "for index, item in enumerate(Preseason):\n",
    "    if item == \"In\":\n",
    "        Media1.append(Media[index])\n",
    "        H_A1.append(H_A[index])\n",
    "        Date1.append(Date[index])\n",
    "        Opponent1.append(Opponent[index])\n",
    "        Label1.append(Label[index])\n",
    "    else:\n",
    "        Media2.append(Media[index])\n",
    "        H_A2.append(H_A[index])\n",
    "        Date2.append(Date[index])\n",
    "        Opponent2.append(Opponent[index])\n",
    "        Label2.append(Label[index])\n",
    "In = pd.DataFrame()\n",
    "Out = pd.DataFrame()\n",
    "In[\"Media\"] = Media1\n",
    "In[\"H_A\"] = H_A1\n",
    "In[\"Date\"] = Date1\n",
    "In[\"Opponent\"] = Opponent1\n",
    "In[\"Label\"] = Label1\n",
    "Out[\"Media\"] = Media2\n",
    "Out[\"H_A\"] = H_A2\n",
    "Out[\"Date\"] = Date2\n",
    "Out[\"Opponent\"] = Opponent2\n",
    "Out[\"Label\"] = Label2"
   ]
  },
  {
   "cell_type": "code",
   "execution_count": 41,
   "metadata": {},
   "outputs": [
    {
     "data": {
      "text/html": [
       "<div>\n",
       "<style scoped>\n",
       "    .dataframe tbody tr th:only-of-type {\n",
       "        vertical-align: middle;\n",
       "    }\n",
       "\n",
       "    .dataframe tbody tr th {\n",
       "        vertical-align: top;\n",
       "    }\n",
       "\n",
       "    .dataframe thead th {\n",
       "        text-align: right;\n",
       "    }\n",
       "</style>\n",
       "<table border=\"1\" class=\"dataframe\">\n",
       "  <thead>\n",
       "    <tr style=\"text-align: right;\">\n",
       "      <th></th>\n",
       "      <th>Media</th>\n",
       "      <th>H_A</th>\n",
       "      <th>Date</th>\n",
       "      <th>Opponent</th>\n",
       "      <th>Label</th>\n",
       "    </tr>\n",
       "  </thead>\n",
       "  <tbody>\n",
       "    <tr>\n",
       "      <th>0</th>\n",
       "      <td>NBC</td>\n",
       "      <td>Home</td>\n",
       "      <td>sept_15</td>\n",
       "      <td>Georgia Tech</td>\n",
       "      <td>Win</td>\n",
       "    </tr>\n",
       "    <tr>\n",
       "      <th>1</th>\n",
       "      <td>ABC</td>\n",
       "      <td>Away</td>\n",
       "      <td>oct_15</td>\n",
       "      <td>Clemson</td>\n",
       "      <td>Lose</td>\n",
       "    </tr>\n",
       "    <tr>\n",
       "      <th>2</th>\n",
       "      <td>NBC</td>\n",
       "      <td>Home</td>\n",
       "      <td>oct_15</td>\n",
       "      <td>USC</td>\n",
       "      <td>Win</td>\n",
       "    </tr>\n",
       "    <tr>\n",
       "      <th>3</th>\n",
       "      <td>FOX</td>\n",
       "      <td>Away</td>\n",
       "      <td>nov_15</td>\n",
       "      <td>Stanford</td>\n",
       "      <td>Lose</td>\n",
       "    </tr>\n",
       "    <tr>\n",
       "      <th>4</th>\n",
       "      <td>NBC</td>\n",
       "      <td>Home</td>\n",
       "      <td>oct_16</td>\n",
       "      <td>Stanford</td>\n",
       "      <td>Lose</td>\n",
       "    </tr>\n",
       "  </tbody>\n",
       "</table>\n",
       "</div>"
      ],
      "text/plain": [
       "  Media   H_A     Date      Opponent Label\n",
       "0   NBC  Home  sept_15  Georgia Tech   Win\n",
       "1   ABC  Away   oct_15       Clemson  Lose\n",
       "2   NBC  Home   oct_15           USC   Win\n",
       "3   FOX  Away   nov_15      Stanford  Lose\n",
       "4   NBC  Home   oct_16      Stanford  Lose"
      ]
     },
     "execution_count": 41,
     "metadata": {},
     "output_type": "execute_result"
    }
   ],
   "source": [
    "In.head()"
   ]
  },
  {
   "cell_type": "code",
   "execution_count": 46,
   "metadata": {},
   "outputs": [
    {
     "name": "stdout",
     "output_type": "stream",
     "text": [
      "GR for Media In Preseason is:\n",
      "0.3288274626044878\n",
      "GR for H_A In Preseason is:\n",
      "0.4506584375036809\n",
      "GR for Date In Preseason is:\n",
      "0.18278414959221004\n",
      "GR for Opponent In Preseason is:\n",
      "0.1917233815272914\n"
     ]
    }
   ],
   "source": [
    "print(\"GR for Media In Preseason is:\")\n",
    "gain_ratio(information_gain(Media1, Label1, \"Win\", \"Lose\"), split_info(Media1))\n",
    "print(\"GR for H_A In Preseason is:\")\n",
    "gain_ratio(information_gain(H_A1, Label1, \"Win\", \"Lose\"), split_info(H_A1))\n",
    "print(\"GR for Date In Preseason is:\")\n",
    "gain_ratio(information_gain(Date1, Label1, \"Win\", \"Lose\"), split_info(Date1))\n",
    "print(\"GR for Opponent In Preseason is:\")\n",
    "gain_ratio(information_gain(Opponent1, Label1, \"Win\", \"Lose\"), split_info(Opponent1))"
   ]
  },
  {
   "cell_type": "markdown",
   "metadata": {},
   "source": [
    "We will split on Home/Away since it is the highest gain ratio."
   ]
  },
  {
   "cell_type": "code",
   "execution_count": 44,
   "metadata": {},
   "outputs": [],
   "source": [
    "Media_home = []\n",
    "Date_home = []\n",
    "Opponent_home = []\n",
    "Label_home = []\n",
    "Media_away = []\n",
    "Date_away = []\n",
    "Opponent_away = []\n",
    "Label_away = []\n",
    "for index, item in enumerate(H_A1):\n",
    "    if item == \"Home\":\n",
    "        Media_home.append(Media1[index])\n",
    "        Date_home.append(Date1[index])\n",
    "        Opponent_home.append(Opponent1[index])\n",
    "        Label_home.append(Label1[index])\n",
    "    else:\n",
    "        Media_away.append(Media1[index])\n",
    "        Date_away.append(Date1[index])\n",
    "        Opponent_away.append(Opponent1[index])\n",
    "        Label_away.append(Label1[index])"
   ]
  },
  {
   "cell_type": "code",
   "execution_count": 54,
   "metadata": {},
   "outputs": [
    {
     "name": "stdout",
     "output_type": "stream",
     "text": [
      "GR for Media in In_Home is:\n",
      "0\n",
      "GR for Date in In_Home is:\n",
      "0.28830850581104195\n",
      "GR for Opponent in In_Home is:\n",
      "0.31416038528480106\n"
     ]
    }
   ],
   "source": [
    "print(\"GR for Media in In_Home is:\")\n",
    "gain_ratio(information_gain(Media_home, Label_home, \"Win\", \"Lose\"), split_info(Media_home))\n",
    "print(\"GR for Date in In_Home is:\")\n",
    "gain_ratio(information_gain(Date_home, Label_home, \"Win\", \"Lose\"), split_info(Date_home))\n",
    "print(\"GR for Opponent in In_Home is:\")\n",
    "gain_ratio(information_gain(Opponent_home, Label_home, \"Win\", \"Lose\"), split_info(Opponent_home))"
   ]
  },
  {
   "cell_type": "markdown",
   "metadata": {},
   "source": [
    "The highest gain ratio is Opponent, so we will split on that. Now we check for Away."
   ]
  },
  {
   "cell_type": "code",
   "execution_count": 56,
   "metadata": {},
   "outputs": [
    {
     "name": "stdout",
     "output_type": "stream",
     "text": [
      "GR for Media in In_Away is:\n",
      "0.4748908380134757\n",
      "GR for Date in In_Away is:\n",
      "0.27182162559524287\n",
      "GR for Opponent in In_Away is:\n",
      "0.27432227074380156\n"
     ]
    }
   ],
   "source": [
    "print(\"GR for Media in In_Away is:\")\n",
    "gain_ratio(information_gain(Media_away, Label_away, \"Win\", \"Lose\"), split_info(Media_away))\n",
    "print(\"GR for Date in In_Away is:\")\n",
    "gain_ratio(information_gain(Date_away, Label_away, \"Win\", \"Lose\"), split_info(Date_away))\n",
    "print(\"GR for Opponent in In_Away is:\")\n",
    "gain_ratio(information_gain(Opponent_away, Label_away, \"Win\", \"Lose\"), split_info(Opponent_away))"
   ]
  },
  {
   "cell_type": "markdown",
   "metadata": {},
   "source": [
    "The highest gain ratio is Media so we will split on that. But first, we return to the Out branch."
   ]
  },
  {
   "cell_type": "code",
   "execution_count": 45,
   "metadata": {},
   "outputs": [
    {
     "data": {
      "text/html": [
       "<div>\n",
       "<style scoped>\n",
       "    .dataframe tbody tr th:only-of-type {\n",
       "        vertical-align: middle;\n",
       "    }\n",
       "\n",
       "    .dataframe tbody tr th {\n",
       "        vertical-align: top;\n",
       "    }\n",
       "\n",
       "    .dataframe thead th {\n",
       "        text-align: right;\n",
       "    }\n",
       "</style>\n",
       "<table border=\"1\" class=\"dataframe\">\n",
       "  <thead>\n",
       "    <tr style=\"text-align: right;\">\n",
       "      <th></th>\n",
       "      <th>Media</th>\n",
       "      <th>H_A</th>\n",
       "      <th>Date</th>\n",
       "      <th>Opponent</th>\n",
       "      <th>Label</th>\n",
       "    </tr>\n",
       "  </thead>\n",
       "  <tbody>\n",
       "    <tr>\n",
       "      <th>0</th>\n",
       "      <td>NBC</td>\n",
       "      <td>Home</td>\n",
       "      <td>sept_15</td>\n",
       "      <td>Texas</td>\n",
       "      <td>Win</td>\n",
       "    </tr>\n",
       "    <tr>\n",
       "      <th>1</th>\n",
       "      <td>ABC</td>\n",
       "      <td>Away</td>\n",
       "      <td>sept_15</td>\n",
       "      <td>Virginia</td>\n",
       "      <td>Win</td>\n",
       "    </tr>\n",
       "    <tr>\n",
       "      <th>2</th>\n",
       "      <td>NBC</td>\n",
       "      <td>Home</td>\n",
       "      <td>sept_15</td>\n",
       "      <td>UMass</td>\n",
       "      <td>Win</td>\n",
       "    </tr>\n",
       "    <tr>\n",
       "      <th>3</th>\n",
       "      <td>NBC</td>\n",
       "      <td>Home</td>\n",
       "      <td>oct_15</td>\n",
       "      <td>Navy</td>\n",
       "      <td>Win</td>\n",
       "    </tr>\n",
       "    <tr>\n",
       "      <th>4</th>\n",
       "      <td>ABC</td>\n",
       "      <td>Away</td>\n",
       "      <td>oct_15</td>\n",
       "      <td>Temple</td>\n",
       "      <td>Win</td>\n",
       "    </tr>\n",
       "  </tbody>\n",
       "</table>\n",
       "</div>"
      ],
      "text/plain": [
       "  Media   H_A     Date  Opponent Label\n",
       "0   NBC  Home  sept_15     Texas   Win\n",
       "1   ABC  Away  sept_15  Virginia   Win\n",
       "2   NBC  Home  sept_15     UMass   Win\n",
       "3   NBC  Home   oct_15      Navy   Win\n",
       "4   ABC  Away   oct_15    Temple   Win"
      ]
     },
     "execution_count": 45,
     "metadata": {},
     "output_type": "execute_result"
    }
   ],
   "source": [
    "Out.head()"
   ]
  },
  {
   "cell_type": "code",
   "execution_count": 47,
   "metadata": {},
   "outputs": [
    {
     "name": "stdout",
     "output_type": "stream",
     "text": [
      "GR for Media in Out Preseason is:\n",
      "1.7218353111111935\n",
      "GR for H_A in Out Preseason is:\n",
      "1.816442622529741\n",
      "GR for Date in Out Preseason is:\n",
      "0.1482471247085744\n",
      "GR for Opponent in Out Preseason is:\n",
      "0.12206599213447909\n"
     ]
    }
   ],
   "source": [
    "print(\"GR for Media in Out Preseason is:\")\n",
    "gain_ratio(information_gain(Media2, Label2, \"Win\", \"Lose\"), split_info(Media2))\n",
    "print(\"GR for H_A in Out Preseason is:\")\n",
    "gain_ratio(information_gain(H_A2, Label2, \"Win\", \"Lose\"), split_info(H_A2))\n",
    "print(\"GR for Date in Out Preseason is:\")\n",
    "gain_ratio(information_gain(Date2, Label2, \"Win\", \"Lose\"), split_info(Date2))\n",
    "print(\"GR for Opponent in Out Preseason is:\")\n",
    "gain_ratio(information_gain(Opponent2, Label2, \"Win\", \"Lose\"), split_info(Opponent2))"
   ]
  },
  {
   "cell_type": "markdown",
   "metadata": {},
   "source": [
    "The highest gain ratio is Home/Away, so we will split on that."
   ]
  },
  {
   "cell_type": "code",
   "execution_count": 48,
   "metadata": {},
   "outputs": [],
   "source": [
    "Media_home2 = []\n",
    "Date_home2 = []\n",
    "Opponent_home2 = []\n",
    "Label_home2 = []\n",
    "Media_away2 = []\n",
    "Date_away2 = []\n",
    "Opponent_away2 = []\n",
    "Label_away2 = []\n",
    "for index, item in enumerate(H_A2):\n",
    "    if item == \"Home\":\n",
    "        Media_home2.append(Media2[index])\n",
    "        Date_home2.append(Date2[index])\n",
    "        Opponent_home2.append(Opponent2[index])\n",
    "        Label_home2.append(Label2[index])\n",
    "    else:\n",
    "        Media_away2.append(Media2[index])\n",
    "        Date_away2.append(Date2[index])\n",
    "        Opponent_away2.append(Opponent2[index])\n",
    "        Label_away2.append(Label2[index])"
   ]
  },
  {
   "cell_type": "code",
   "execution_count": 49,
   "metadata": {},
   "outputs": [
    {
     "name": "stdout",
     "output_type": "stream",
     "text": [
      "GR for Media in Out_Home is:\n",
      "2.8827292687087667\n",
      "GR for Date in Out_Home is:\n",
      "0.14844250168055695\n",
      "GR for Opponent in Out_Home is:\n",
      "0.1301713511509548\n"
     ]
    }
   ],
   "source": [
    "print(\"GR for Media in Out_Home is:\")\n",
    "gain_ratio(information_gain(Media_home2, Label_home2, \"Win\", \"Lose\"), split_info(Media_home2))\n",
    "print(\"GR for Date in Out_Home is:\")\n",
    "gain_ratio(information_gain(Date_home2, Label_home2, \"Win\", \"Lose\"), split_info(Date_home2))\n",
    "print(\"GR for Opponent in Out_Home is:\")\n",
    "gain_ratio(information_gain(Opponent_home2, Label_home2, \"Win\", \"Lose\"), split_info(Opponent_home2))"
   ]
  },
  {
   "cell_type": "markdown",
   "metadata": {},
   "source": [
    "The highest gain ratio is Media so we will split on that. But first we return to the Away branch to check the gain ratios there."
   ]
  },
  {
   "cell_type": "code",
   "execution_count": 51,
   "metadata": {},
   "outputs": [
    {
     "name": "stdout",
     "output_type": "stream",
     "text": [
      "GR for Media in Out_Away is:\n",
      "1.0772716011696248\n",
      "GR for Date in Out_Away is:\n",
      "0.20647107469050285\n",
      "GR for Opponent in Out_Away is:\n",
      "0.20964275582594497\n"
     ]
    }
   ],
   "source": [
    "print(\"GR for Media in Out_Away is:\")\n",
    "gain_ratio(information_gain(Media_away2, Label_away2, \"Win\", \"Lose\"), split_info(Media_away2))\n",
    "print(\"GR for Date in Out_Away is:\")\n",
    "gain_ratio(information_gain(Date_away2, Label_away2, \"Win\", \"Lose\"), split_info(Date_away2))\n",
    "print(\"GR for Opponent in Out_Away is:\")\n",
    "gain_ratio(information_gain(Opponent_away2, Label_away2, \"Win\", \"Lose\"), split_info(Opponent_away2))"
   ]
  },
  {
   "cell_type": "markdown",
   "metadata": {},
   "source": [
    "The highest gain ratio is Media so we will split on that. \n",
    "For now though, we consider the In branch and the splits that we have determined must occur there. For In_Home, the gain ratio was highest for Opponent, but since there are no repeat opponents in that list, we will not need to calculate gain ratio for those branches, as there will be nothing left to split on. For In_Away, the highest gain ratio was Media, and there are two different branches that must be created, one for ABC and the other for FOX. However, all of the games in In_Away were loses, meaning we do not actually need to branch. So, the In side of the tree is complete.\n",
    "We look at the Out side again. We are splitting on Media for both Out_Home and Out_Away, and so we must sort our games into the correct lists. First we will sort for Home."
   ]
  },
  {
   "cell_type": "code",
   "execution_count": 80,
   "metadata": {},
   "outputs": [],
   "source": [
    "Date_NBC = []\n",
    "Opponent_NBC = []\n",
    "Label_NBC = []\n",
    "Date_ESPN = []\n",
    "Opponent_ESPN = []\n",
    "Label_ESPN = []\n",
    "Date_CBS = []\n",
    "Opponent_CBS = []\n",
    "Label_CBS = []\n",
    "for index, item in enumerate(Media_home2):\n",
    "    if item == \"NBC\":\n",
    "        Date_NBC.append(Date_home2[index])\n",
    "        Opponent_NBC.append(Opponent_home2[index])\n",
    "        Label_NBC.append(Label_home2[index])\n",
    "    elif item == \"ESPN\":\n",
    "        Date_ESPN.append(Date_home2[index])\n",
    "        Opponent_ESPN.append(Opponent_home2[index])\n",
    "        Label_ESPN.append(Label_home2[index])\n",
    "    else:\n",
    "        Date_CBS.append(Date_home2[index])\n",
    "        Opponent_CBS.append(Opponent_home2[index])\n",
    "        Label_CBS.append(Label_home2[index])"
   ]
  },
  {
   "cell_type": "markdown",
   "metadata": {},
   "source": [
    "Since ESPN and CBS only have one game each, we will not need to calculate gain ratio for those or split. So we only calculate the gain ratio for NBC."
   ]
  },
  {
   "cell_type": "code",
   "execution_count": 81,
   "metadata": {},
   "outputs": [
    {
     "name": "stdout",
     "output_type": "stream",
     "text": [
      "GR for Date in Out_Home_NBC is:\n",
      "0.12344443055879188\n",
      "GR for Opponent in Out_Home_NBC is:\n",
      "0.11031264567713367\n"
     ]
    }
   ],
   "source": [
    "print(\"GR for Date in Out_Home_NBC is:\")\n",
    "gain_ratio(information_gain(Date_NBC, Label_NBC, \"Win\", \"Lose\"), split_info(Date_NBC))\n",
    "print(\"GR for Opponent in Out_Home_NBC is:\")\n",
    "gain_ratio(information_gain(Opponent_NBC, Label_NBC, \"Win\", \"Lose\"), split_info(Opponent_NBC))"
   ]
  },
  {
   "cell_type": "markdown",
   "metadata": {},
   "source": [
    "The highest gain ratio is Date, so we will split on that. First we sort Out_Away for the Media branch though."
   ]
  },
  {
   "cell_type": "code",
   "execution_count": 82,
   "metadata": {},
   "outputs": [],
   "source": [
    "Date_NBC2 = []\n",
    "Opponent_NBC2 = []\n",
    "Label_NBC2 = []\n",
    "Date_ABC2 = []\n",
    "Opponent_ABC2 = []\n",
    "Label_ABC2 = []\n",
    "for index, item in enumerate(Media_away2):\n",
    "    if item == \"NBC\":\n",
    "        Date_NBC2.append(Date_away2[index])\n",
    "        Opponent_NBC2.append(Opponent_away2[index])\n",
    "        Label_NBC2.append(Label_away2[index])\n",
    "    else:\n",
    "        Date_ABC2.append(Date_away2[index])\n",
    "        Opponent_ABC2.append(Opponent_away2[index])\n",
    "        Label_ABC2.append(Label_away2[index])"
   ]
  },
  {
   "cell_type": "markdown",
   "metadata": {},
   "source": [
    "Since there is only one game in NBC2, we do not need to calculate gain ratio for that, since there is nothing else to split on. So we only calculate it for ABC2."
   ]
  },
  {
   "cell_type": "code",
   "execution_count": 83,
   "metadata": {},
   "outputs": [
    {
     "name": "stdout",
     "output_type": "stream",
     "text": [
      "GR for Date in Out_Away_ABC is:\n",
      "0.23774813024470418\n",
      "GR for Opponent in Out_Away_ABC is:\n",
      "0.24707430616942733\n"
     ]
    }
   ],
   "source": [
    "print(\"GR for Date in Out_Away_ABC is:\")\n",
    "gain_ratio(information_gain(Date_ABC2, Label_ABC2, \"Win\", \"Lose\"), split_info(Date_ABC2))\n",
    "print(\"GR for Opponent in Out_Away_ABC is:\")\n",
    "gain_ratio(information_gain(Opponent_ABC2, Label_ABC2, \"Win\", \"Lose\"), split_info(Opponent_ABC2))"
   ]
  },
  {
   "cell_type": "markdown",
   "metadata": {},
   "source": [
    "The highest gain ratio is Opponent, so we will split on that. However, since there are no repeat opponents in this list, then we are done for this branch. So now we go back to Out_Home_NBC and split on Date. We only need to create lists for branches that have more than one game, that is, sept15 and sept16."
   ]
  },
  {
   "cell_type": "code",
   "execution_count": 92,
   "metadata": {},
   "outputs": [
    {
     "data": {
      "text/plain": [
       "['sept_15',\n",
       " 'sept_15',\n",
       " 'oct_15',\n",
       " 'nov_15',\n",
       " 'sept_16',\n",
       " 'sept_16',\n",
       " 'sept_16',\n",
       " 'oct_16',\n",
       " 'nov_16']"
      ]
     },
     "execution_count": 92,
     "metadata": {},
     "output_type": "execute_result"
    }
   ],
   "source": [
    "Date_NBC"
   ]
  },
  {
   "cell_type": "code",
   "execution_count": 87,
   "metadata": {},
   "outputs": [],
   "source": [
    "Opponent_sept15 = []\n",
    "Label_sept15 = []\n",
    "Opponent_sept16 = []\n",
    "Label_sept16 = []\n",
    "for index, item in enumerate(Date_NBC):\n",
    "    if item == \"sept_15\":\n",
    "        Opponent_sept15.append(Opponent_NBC[index])\n",
    "        Label_sept15.append(Label_NBC[index])\n",
    "    else:\n",
    "        Opponent_sept16.append(Opponent_NBC[index])\n",
    "        Label_sept16.append(Label_NBC[index])"
   ]
  },
  {
   "cell_type": "markdown",
   "metadata": {},
   "source": [
    "In the sept15 list we only have wins, which means we are done. For the sept16 list since we have some wins and some losses, we will have to split on the last feature Opponents, but these are all individual games, so we are also done. Now the tree is complete! Please see the PDF file for a drawing. "
   ]
  },
  {
   "cell_type": "markdown",
   "metadata": {},
   "source": [
    "Now we can construct a function to test our test data based on our constructed tree."
   ]
  },
  {
   "cell_type": "code",
   "execution_count": 88,
   "metadata": {},
   "outputs": [
    {
     "data": {
      "text/plain": [
       "['Win', 'Win']"
      ]
     },
     "execution_count": 88,
     "metadata": {},
     "output_type": "execute_result"
    }
   ],
   "source": [
    "Label_sept15"
   ]
  },
  {
   "cell_type": "code",
   "execution_count": 90,
   "metadata": {},
   "outputs": [
    {
     "data": {
      "text/plain": [
       "['Navy',\n",
       " 'Wake Forest',\n",
       " 'Nevada',\n",
       " 'Michigan State',\n",
       " 'Duke',\n",
       " 'Miami Florida',\n",
       " 'Army']"
      ]
     },
     "execution_count": 90,
     "metadata": {},
     "output_type": "execute_result"
    }
   ],
   "source": [
    "Opponent_sept16"
   ]
  },
  {
   "cell_type": "code",
   "execution_count": 116,
   "metadata": {},
   "outputs": [],
   "source": [
    "def predict(dataframe):\n",
    "    predictions = []\n",
    "    for index, row in dataframe.iterrows():\n",
    "        if row[\"Is_Opponent_in_AP25_Preseason\"] == \"In\":\n",
    "            if row[\"Is_Home_or_Away\"] == \"Home\":\n",
    "                if row[\"Opponent\"] == \"Stanford\" or \"Virginia Tech\":\n",
    "                    predictions.append(\"Lose\")\n",
    "                else:\n",
    "                    predictions.append(\"Win\")\n",
    "            else:\n",
    "                predictions.append(\"Lose\")\n",
    "        else:\n",
    "            if row[\"Is_Home_or_Away\"] == \"Home\":\n",
    "                if row[\"Media\"] == \"CBS\":\n",
    "                    predictions.append(\"Lose\")\n",
    "                elif row[\"Media\"] == \"ESPN\":\n",
    "                    predictions.append(\"Win\")\n",
    "                elif row[\"Media\"] == \"NBC\":\n",
    "                    if row[\"Date\"] == \"sept_16\":\n",
    "                        if row[\"Opponent\"] == \"Nevada\":\n",
    "                            predictions.append(\"Win\")\n",
    "                        else:\n",
    "                            predictions.append(\"Lose\")\n",
    "                    else:\n",
    "                        predictions.append(\"Win\")\n",
    "                else:\n",
    "                    predictions.append(\"Win\")\n",
    "            else:\n",
    "                if row[\"Media\"] == \"ABC\":\n",
    "                    if row[\"Opponent\"] == \"North Carolina State\" or \"Texas\":\n",
    "                        predictions.append(\"Lose\")\n",
    "                    else:\n",
    "                        predictions.append(\"Win\")\n",
    "                else:\n",
    "                    predictions.append(\"Win\")\n",
    "    return predictions"
   ]
  },
  {
   "cell_type": "markdown",
   "metadata": {},
   "source": [
    "Now we do the same Date preprocessing for the test set that we did on the train set."
   ]
  },
  {
   "cell_type": "code",
   "execution_count": 95,
   "metadata": {},
   "outputs": [
    {
     "name": "stderr",
     "output_type": "stream",
     "text": [
      "/Users/kailee/anaconda/envs/py36/lib/python3.6/site-packages/ipykernel_launcher.py:14: SettingWithCopyWarning: \n",
      "A value is trying to be set on a copy of a slice from a DataFrame\n",
      "\n",
      "See the caveats in the documentation: http://pandas.pydata.org/pandas-docs/stable/indexing.html#indexing-view-versus-copy\n",
      "  \n"
     ]
    }
   ],
   "source": [
    "i = 0\n",
    "for item in test[\"Date\"]:\n",
    "    print(item)\n",
    "    if item[0] == \"9\" and item[len(item)-1] ==\"7\":\n",
    "        test[\"Date\"][i] = \"sept_17\"\n",
    "    elif item[1] == \"0\" and item[len(item)-1] ==\"7\":\n",
    "        test[\"Date\"][i] = \"oct_17\"\n",
    "    else:\n",
    "        test[\"Date\"][i] = \"nov_17\"\n",
    "    i += 1"
   ]
  },
  {
   "cell_type": "code",
   "execution_count": 108,
   "metadata": {},
   "outputs": [
    {
     "data": {
      "text/html": [
       "<div>\n",
       "<style scoped>\n",
       "    .dataframe tbody tr th:only-of-type {\n",
       "        vertical-align: middle;\n",
       "    }\n",
       "\n",
       "    .dataframe tbody tr th {\n",
       "        vertical-align: top;\n",
       "    }\n",
       "\n",
       "    .dataframe thead th {\n",
       "        text-align: right;\n",
       "    }\n",
       "</style>\n",
       "<table border=\"1\" class=\"dataframe\">\n",
       "  <thead>\n",
       "    <tr style=\"text-align: right;\">\n",
       "      <th></th>\n",
       "      <th>ID</th>\n",
       "      <th>Date</th>\n",
       "      <th>Opponent</th>\n",
       "      <th>Is_Home_or_Away</th>\n",
       "      <th>Is_Opponent_in_AP25_Preseason</th>\n",
       "      <th>Media</th>\n",
       "      <th>Label</th>\n",
       "    </tr>\n",
       "  </thead>\n",
       "  <tbody>\n",
       "    <tr>\n",
       "      <th>0</th>\n",
       "      <td>25</td>\n",
       "      <td>nov_16</td>\n",
       "      <td>Temple</td>\n",
       "      <td>Home</td>\n",
       "      <td>Out</td>\n",
       "      <td>NBC</td>\n",
       "      <td>Win</td>\n",
       "    </tr>\n",
       "    <tr>\n",
       "      <th>1</th>\n",
       "      <td>26</td>\n",
       "      <td>nov_16</td>\n",
       "      <td>Georgia</td>\n",
       "      <td>Home</td>\n",
       "      <td>In</td>\n",
       "      <td>NBC</td>\n",
       "      <td>Lose</td>\n",
       "    </tr>\n",
       "    <tr>\n",
       "      <th>2</th>\n",
       "      <td>27</td>\n",
       "      <td>nov_16</td>\n",
       "      <td>Boston College</td>\n",
       "      <td>Away</td>\n",
       "      <td>Out</td>\n",
       "      <td>ESPN</td>\n",
       "      <td>Win</td>\n",
       "    </tr>\n",
       "    <tr>\n",
       "      <th>3</th>\n",
       "      <td>28</td>\n",
       "      <td>nov_16</td>\n",
       "      <td>Michigan State</td>\n",
       "      <td>Away</td>\n",
       "      <td>Out</td>\n",
       "      <td>FOX</td>\n",
       "      <td>Win</td>\n",
       "    </tr>\n",
       "    <tr>\n",
       "      <th>4</th>\n",
       "      <td>29</td>\n",
       "      <td>nov_16</td>\n",
       "      <td>Miami Ohio</td>\n",
       "      <td>Home</td>\n",
       "      <td>Out</td>\n",
       "      <td>NBC</td>\n",
       "      <td>Win</td>\n",
       "    </tr>\n",
       "  </tbody>\n",
       "</table>\n",
       "</div>"
      ],
      "text/plain": [
       "   ID    Date        Opponent Is_Home_or_Away Is_Opponent_in_AP25_Preseason  \\\n",
       "0  25  nov_16          Temple            Home                           Out   \n",
       "1  26  nov_16         Georgia            Home                            In   \n",
       "2  27  nov_16  Boston College            Away                           Out   \n",
       "3  28  nov_16  Michigan State            Away                           Out   \n",
       "4  29  nov_16      Miami Ohio            Home                           Out   \n",
       "\n",
       "  Media Label  \n",
       "0   NBC   Win  \n",
       "1   NBC  Lose  \n",
       "2  ESPN   Win  \n",
       "3   FOX   Win  \n",
       "4   NBC   Win  "
      ]
     },
     "execution_count": 108,
     "metadata": {},
     "output_type": "execute_result"
    }
   ],
   "source": [
    "test.head()"
   ]
  },
  {
   "cell_type": "code",
   "execution_count": 117,
   "metadata": {},
   "outputs": [],
   "source": [
    "predictions = predict(test)"
   ]
  },
  {
   "cell_type": "code",
   "execution_count": 118,
   "metadata": {},
   "outputs": [
    {
     "name": "stdout",
     "output_type": "stream",
     "text": [
      "['Win', 'Lose', 'Win', 'Win', 'Win', 'Lose', 'Lose', 'Win', 'Win', 'Lose', 'Win', 'Lose']\n"
     ]
    }
   ],
   "source": [
    "print(predictions)"
   ]
  },
  {
   "cell_type": "code",
   "execution_count": 119,
   "metadata": {},
   "outputs": [],
   "source": [
    "actual = list(test[\"Label\"])"
   ]
  },
  {
   "cell_type": "code",
   "execution_count": 121,
   "metadata": {},
   "outputs": [
    {
     "data": {
      "text/plain": [
       "1.0"
      ]
     },
     "execution_count": 121,
     "metadata": {},
     "output_type": "execute_result"
    }
   ],
   "source": [
    "precision_score(actual, predictions, pos_label=\"Win\")"
   ]
  },
  {
   "cell_type": "code",
   "execution_count": 122,
   "metadata": {},
   "outputs": [
    {
     "data": {
      "text/plain": [
       "0.7777777777777778"
      ]
     },
     "execution_count": 122,
     "metadata": {},
     "output_type": "execute_result"
    }
   ],
   "source": [
    "recall_score(actual, predictions, pos_label=\"Win\")"
   ]
  },
  {
   "cell_type": "code",
   "execution_count": 123,
   "metadata": {},
   "outputs": [
    {
     "data": {
      "text/plain": [
       "0.8750000000000001"
      ]
     },
     "execution_count": 123,
     "metadata": {},
     "output_type": "execute_result"
    }
   ],
   "source": [
    "f1_score(actual, predictions, pos_label=\"Win\")"
   ]
  },
  {
   "cell_type": "code",
   "execution_count": null,
   "metadata": {},
   "outputs": [],
   "source": []
  }
 ],
 "metadata": {
  "anaconda-cloud": {},
  "kernelspec": {
   "display_name": "Python 3",
   "language": "python",
   "name": "python3"
  },
  "language_info": {
   "codemirror_mode": {
    "name": "ipython",
    "version": 3
   },
   "file_extension": ".py",
   "mimetype": "text/x-python",
   "name": "python",
   "nbconvert_exporter": "python",
   "pygments_lexer": "ipython3",
   "version": "3.6.5"
  }
 },
 "nbformat": 4,
 "nbformat_minor": 1
}
