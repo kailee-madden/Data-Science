{
 "cells": [
  {
   "cell_type": "code",
   "execution_count": 1,
   "metadata": {},
   "outputs": [],
   "source": [
    "import numpy as np \n",
    "import pandas as pd\n",
    "import matplotlib.pyplot as plt\n",
    "import sklearn\n",
    "from sklearn import metrics\n",
    "from sklearn.metrics import precision_score, recall_score, f1_score\n",
    "from pandas import Series, DataFrame\n",
    "import scipy\n",
    "from scipy import stats\n",
    "import math\n",
    "import csv\n",
    "from sklearn import feature_extraction"
   ]
  },
  {
   "cell_type": "code",
   "execution_count": 2,
   "metadata": {},
   "outputs": [],
   "source": [
    "data_train = pd.read_csv(\"Dataset-football-train.txt\", delimiter=\"\\t\")"
   ]
  },
  {
   "cell_type": "code",
   "execution_count": 3,
   "metadata": {},
   "outputs": [],
   "source": [
    "data_test = pd.read_csv(\"Dataset-football-test.txt\", delimiter=\"\\t\")"
   ]
  },
  {
   "cell_type": "code",
   "execution_count": 4,
   "metadata": {},
   "outputs": [
    {
     "name": "stderr",
     "output_type": "stream",
     "text": [
      "/Users/kailee/anaconda/envs/py36/lib/python3.6/site-packages/ipykernel_launcher.py:4: SettingWithCopyWarning: \n",
      "A value is trying to be set on a copy of a slice from a DataFrame\n",
      "\n",
      "See the caveats in the documentation: http://pandas.pydata.org/pandas-docs/stable/indexing.html#indexing-view-versus-copy\n",
      "  after removing the cwd from sys.path.\n",
      "/Users/kailee/anaconda/envs/py36/lib/python3.6/site-packages/ipykernel_launcher.py:6: SettingWithCopyWarning: \n",
      "A value is trying to be set on a copy of a slice from a DataFrame\n",
      "\n",
      "See the caveats in the documentation: http://pandas.pydata.org/pandas-docs/stable/indexing.html#indexing-view-versus-copy\n",
      "  \n",
      "/Users/kailee/anaconda/envs/py36/lib/python3.6/site-packages/ipykernel_launcher.py:8: SettingWithCopyWarning: \n",
      "A value is trying to be set on a copy of a slice from a DataFrame\n",
      "\n",
      "See the caveats in the documentation: http://pandas.pydata.org/pandas-docs/stable/indexing.html#indexing-view-versus-copy\n",
      "  \n"
     ]
    }
   ],
   "source": [
    "i = 0\n",
    "for item in data_train[\"Date\"]:\n",
    "    if item[0] == \"9\":\n",
    "        data_train[\"Date\"][i] = \"sept\"\n",
    "    elif item[1] == \"0\":\n",
    "        data_train[\"Date\"][i] = \"oct\"\n",
    "    else:\n",
    "        data_train[\"Date\"][i] = \"nov\"\n",
    "    i += 1"
   ]
  },
  {
   "cell_type": "code",
   "execution_count": 5,
   "metadata": {},
   "outputs": [
    {
     "name": "stderr",
     "output_type": "stream",
     "text": [
      "/Users/kailee/anaconda/envs/py36/lib/python3.6/site-packages/ipykernel_launcher.py:4: SettingWithCopyWarning: \n",
      "A value is trying to be set on a copy of a slice from a DataFrame\n",
      "\n",
      "See the caveats in the documentation: http://pandas.pydata.org/pandas-docs/stable/indexing.html#indexing-view-versus-copy\n",
      "  after removing the cwd from sys.path.\n",
      "/Users/kailee/anaconda/envs/py36/lib/python3.6/site-packages/ipykernel_launcher.py:6: SettingWithCopyWarning: \n",
      "A value is trying to be set on a copy of a slice from a DataFrame\n",
      "\n",
      "See the caveats in the documentation: http://pandas.pydata.org/pandas-docs/stable/indexing.html#indexing-view-versus-copy\n",
      "  \n",
      "/Users/kailee/anaconda/envs/py36/lib/python3.6/site-packages/ipykernel_launcher.py:8: SettingWithCopyWarning: \n",
      "A value is trying to be set on a copy of a slice from a DataFrame\n",
      "\n",
      "See the caveats in the documentation: http://pandas.pydata.org/pandas-docs/stable/indexing.html#indexing-view-versus-copy\n",
      "  \n"
     ]
    }
   ],
   "source": [
    "i = 0\n",
    "for item in data_test[\"Date\"]:\n",
    "    if item[0] == \"9\":\n",
    "        data_test[\"Date\"][i] = \"sept\"\n",
    "    elif item[1] == \"0\":\n",
    "        data_test[\"Date\"][i] = \"oct\"\n",
    "    else:\n",
    "        data_test[\"Date\"][i] = \"nov\"\n",
    "    i += 1"
   ]
  },
  {
   "cell_type": "code",
   "execution_count": 6,
   "metadata": {},
   "outputs": [],
   "source": [
    "def prior_prob(column, label):\n",
    "    label_count = 0\n",
    "    for item in column:\n",
    "        if item == label:\n",
    "            label_count += 1\n",
    "    return (float(label_count)/len(column))"
   ]
  },
  {
   "cell_type": "code",
   "execution_count": 7,
   "metadata": {},
   "outputs": [],
   "source": [
    "def likelihood(column, label, predict_column, pos_label):\n",
    "    count = 0\n",
    "    for index, value in enumerate(column):\n",
    "        if predict_column[index] == pos_label:\n",
    "            if value == label:\n",
    "                count += 1\n",
    "    pos_count = 0\n",
    "    for item in predict_column:\n",
    "        if item == pos_label:\n",
    "            pos_count += 1\n",
    "    return float(count)/pos_count"
   ]
  },
  {
   "cell_type": "code",
   "execution_count": 8,
   "metadata": {},
   "outputs": [
    {
     "data": {
      "text/plain": [
       "0.7142857142857143"
      ]
     },
     "execution_count": 8,
     "metadata": {},
     "output_type": "execute_result"
    }
   ],
   "source": [
    "likelihood(list(data_train[\"Media\"]), \"NBC\", list(data_train[\"Label\"]), \"Win\")"
   ]
  },
  {
   "cell_type": "code",
   "execution_count": 9,
   "metadata": {},
   "outputs": [],
   "source": [
    "def evidence(column, label):\n",
    "    label_count = 0\n",
    "    for item in column:\n",
    "        if item == label:\n",
    "            label_count += 1\n",
    "    return (float(label_count)/len(column))"
   ]
  },
  {
   "cell_type": "code",
   "execution_count": 10,
   "metadata": {},
   "outputs": [],
   "source": [
    "def post_prob(prior, likelihood,evidence):\n",
    "    return (prior*float(likelihood))/evidence"
   ]
  },
  {
   "cell_type": "code",
   "execution_count": 11,
   "metadata": {},
   "outputs": [],
   "source": [
    "def train(dataframe, predict_column, pos_label, column_names):\n",
    "    probabilities = {}\n",
    "    pos_prior = prior_prob(predict_column, pos_label)\n",
    "    for name in column_names:\n",
    "        column = list(dataframe[name])\n",
    "        values = set()\n",
    "        for value in column:\n",
    "            values.add(value)\n",
    "        for unique_value in values:\n",
    "            likeli = likelihood(column, unique_value, predict_column, pos_label)\n",
    "            evi = evidence(column, unique_value)\n",
    "            po_prob = post_prob(pos_prior, likeli, evi)\n",
    "            probabilities[unique_value] = po_prob\n",
    "    print(probabilities)\n",
    "    return probabilities\n",
    "        \n",
    "    "
   ]
  },
  {
   "cell_type": "code",
   "execution_count": 12,
   "metadata": {},
   "outputs": [
    {
     "data": {
      "text/html": [
       "<div>\n",
       "<style scoped>\n",
       "    .dataframe tbody tr th:only-of-type {\n",
       "        vertical-align: middle;\n",
       "    }\n",
       "\n",
       "    .dataframe tbody tr th {\n",
       "        vertical-align: top;\n",
       "    }\n",
       "\n",
       "    .dataframe thead th {\n",
       "        text-align: right;\n",
       "    }\n",
       "</style>\n",
       "<table border=\"1\" class=\"dataframe\">\n",
       "  <thead>\n",
       "    <tr style=\"text-align: right;\">\n",
       "      <th></th>\n",
       "      <th>ID</th>\n",
       "      <th>Date</th>\n",
       "      <th>Opponent</th>\n",
       "      <th>Is_Home_or_Away</th>\n",
       "      <th>Is_Opponent_in_AP25_Preseason</th>\n",
       "      <th>Media</th>\n",
       "      <th>Label</th>\n",
       "    </tr>\n",
       "  </thead>\n",
       "  <tbody>\n",
       "    <tr>\n",
       "      <th>0</th>\n",
       "      <td>1</td>\n",
       "      <td>sept</td>\n",
       "      <td>Texas</td>\n",
       "      <td>Home</td>\n",
       "      <td>Out</td>\n",
       "      <td>NBC</td>\n",
       "      <td>Win</td>\n",
       "    </tr>\n",
       "    <tr>\n",
       "      <th>1</th>\n",
       "      <td>2</td>\n",
       "      <td>sept</td>\n",
       "      <td>Virginia</td>\n",
       "      <td>Away</td>\n",
       "      <td>Out</td>\n",
       "      <td>ABC</td>\n",
       "      <td>Win</td>\n",
       "    </tr>\n",
       "    <tr>\n",
       "      <th>2</th>\n",
       "      <td>3</td>\n",
       "      <td>sept</td>\n",
       "      <td>Georgia Tech</td>\n",
       "      <td>Home</td>\n",
       "      <td>In</td>\n",
       "      <td>NBC</td>\n",
       "      <td>Win</td>\n",
       "    </tr>\n",
       "    <tr>\n",
       "      <th>3</th>\n",
       "      <td>4</td>\n",
       "      <td>sept</td>\n",
       "      <td>UMass</td>\n",
       "      <td>Home</td>\n",
       "      <td>Out</td>\n",
       "      <td>NBC</td>\n",
       "      <td>Win</td>\n",
       "    </tr>\n",
       "    <tr>\n",
       "      <th>4</th>\n",
       "      <td>5</td>\n",
       "      <td>oct</td>\n",
       "      <td>Clemson</td>\n",
       "      <td>Away</td>\n",
       "      <td>In</td>\n",
       "      <td>ABC</td>\n",
       "      <td>Lose</td>\n",
       "    </tr>\n",
       "  </tbody>\n",
       "</table>\n",
       "</div>"
      ],
      "text/plain": [
       "   ID  Date      Opponent Is_Home_or_Away Is_Opponent_in_AP25_Preseason Media  \\\n",
       "0   1  sept         Texas            Home                           Out   NBC   \n",
       "1   2  sept      Virginia            Away                           Out   ABC   \n",
       "2   3  sept  Georgia Tech            Home                            In   NBC   \n",
       "3   4  sept         UMass            Home                           Out   NBC   \n",
       "4   5   oct       Clemson            Away                            In   ABC   \n",
       "\n",
       "  Label  \n",
       "0   Win  \n",
       "1   Win  \n",
       "2   Win  \n",
       "3   Win  \n",
       "4  Lose  "
      ]
     },
     "execution_count": 12,
     "metadata": {},
     "output_type": "execute_result"
    }
   ],
   "source": [
    "data_train.head()"
   ]
  },
  {
   "cell_type": "code",
   "execution_count": 13,
   "metadata": {},
   "outputs": [],
   "source": [
    "predicting_column = list(data_train[\"Label\"])"
   ]
  },
  {
   "cell_type": "code",
   "execution_count": 14,
   "metadata": {},
   "outputs": [],
   "source": [
    "data_train.drop([\"Label\", \"ID\"], axis=1, inplace=True)"
   ]
  },
  {
   "cell_type": "code",
   "execution_count": 15,
   "metadata": {},
   "outputs": [],
   "source": [
    "test_predict_column = list(data_test[\"Label\"])"
   ]
  },
  {
   "cell_type": "code",
   "execution_count": 16,
   "metadata": {},
   "outputs": [],
   "source": [
    "data_test.drop([\"Label\", \"ID\"], axis=1, inplace=True)"
   ]
  },
  {
   "cell_type": "code",
   "execution_count": 17,
   "metadata": {},
   "outputs": [],
   "source": [
    "list_names = [\"Date\", \"Opponent\", \"Is_Home_or_Away\", \"Is_Opponent_in_AP25_Preseason\", \"Media\"]"
   ]
  },
  {
   "cell_type": "code",
   "execution_count": 18,
   "metadata": {},
   "outputs": [
    {
     "name": "stdout",
     "output_type": "stream",
     "text": [
      "{'nov': 0.5, 'oct': 0.6250000000000001, 'sept': 0.6250000000000001, 'Syracuse': 1.0, 'Virginia': 1.0, 'Duke': 0.0, 'Texas': 0.5, 'Navy': 0.5, 'Clemson': 0.0, 'Boston College': 1.0, 'Army': 1.0, 'Miami Florida': 1.0, 'PITT': 1.0, 'Temple': 1.0, 'Wake Forest': 1.0, 'North Carolina State': 0.0, 'Michigan State': 0.0, 'Virginia Tech': 0.0, 'Nevada': 1.0, 'Stanford': 0.0, 'Georgia Tech': 1.0, 'UMass': 1.0, 'USC': 0.5, 'Home': 0.6666666666666667, 'Away': 0.4444444444444444, 'In': 0.2857142857142857, 'Out': 0.7058823529411764, 'NBC': 0.7142857142857143, 'CBS': 0.0, 'FOX': 0.0, 'ABC': 0.42857142857142855, 'ESPN': 1.0}\n"
     ]
    }
   ],
   "source": [
    "train_output = train(data_train, predicting_column,\"Win\", list_names)"
   ]
  },
  {
   "cell_type": "code",
   "execution_count": 19,
   "metadata": {},
   "outputs": [],
   "source": [
    "def test(dataframe, column_names, train_output):\n",
    "    predicted = []\n",
    "    for index, row in dataframe.iterrows():\n",
    "        row_prob = 1\n",
    "        for name in column_names:\n",
    "            value = row[name]\n",
    "            try:\n",
    "                prob = train_output[value]\n",
    "            except:\n",
    "                prob = 0\n",
    "            row_prob = row_prob * prob\n",
    "        if row_prob >= .5:\n",
    "            predicted.append(\"Win\")\n",
    "        else:\n",
    "            predicted.append(\"Lose\")\n",
    "    print(predicted)\n",
    "    return predicted\n",
    "            "
   ]
  },
  {
   "cell_type": "code",
   "execution_count": 20,
   "metadata": {},
   "outputs": [
    {
     "name": "stdout",
     "output_type": "stream",
     "text": [
      "['Lose', 'Lose', 'Lose', 'Lose', 'Lose', 'Lose', 'Lose', 'Lose', 'Lose', 'Lose', 'Lose', 'Lose']\n"
     ]
    }
   ],
   "source": [
    "predicted = test(data_test, list_names, train_output)"
   ]
  },
  {
   "cell_type": "code",
   "execution_count": 21,
   "metadata": {},
   "outputs": [
    {
     "data": {
      "text/plain": [
       "0.25"
      ]
     },
     "execution_count": 21,
     "metadata": {},
     "output_type": "execute_result"
    }
   ],
   "source": [
    "precision_score(test_predict_column,predicted, pos_label=\"Lose\")"
   ]
  },
  {
   "cell_type": "code",
   "execution_count": 22,
   "metadata": {},
   "outputs": [
    {
     "data": {
      "text/plain": [
       "1.0"
      ]
     },
     "execution_count": 22,
     "metadata": {},
     "output_type": "execute_result"
    }
   ],
   "source": [
    "recall_score(test_predict_column,predicted, pos_label=\"Lose\")"
   ]
  },
  {
   "cell_type": "code",
   "execution_count": 23,
   "metadata": {},
   "outputs": [
    {
     "data": {
      "text/plain": [
       "0.4"
      ]
     },
     "execution_count": 23,
     "metadata": {},
     "output_type": "execute_result"
    }
   ],
   "source": [
    "f1_score(test_predict_column,predicted, pos_label=\"Lose\")"
   ]
  },
  {
   "cell_type": "code",
   "execution_count": null,
   "metadata": {},
   "outputs": [],
   "source": []
  }
 ],
 "metadata": {
  "anaconda-cloud": {},
  "kernelspec": {
   "display_name": "Python 3",
   "language": "python",
   "name": "python3"
  },
  "language_info": {
   "codemirror_mode": {
    "name": "ipython",
    "version": 3
   },
   "file_extension": ".py",
   "mimetype": "text/x-python",
   "name": "python",
   "nbconvert_exporter": "python",
   "pygments_lexer": "ipython3",
   "version": "3.6.5"
  }
 },
 "nbformat": 4,
 "nbformat_minor": 1
}
