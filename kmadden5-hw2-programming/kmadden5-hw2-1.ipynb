{
 "cells": [
  {
   "cell_type": "code",
   "execution_count": 40,
   "metadata": {
    "collapsed": true
   },
   "outputs": [],
   "source": [
    "import numpy as np \n",
    "import pandas as pd\n",
    "import matplotlib.pyplot as plt\n",
    "import sklearn\n",
    "from sklearn import metrics\n",
    "from sklearn.metrics import precision_score, recall_score, f1_score\n",
    "from pandas import Series, DataFrame\n",
    "import scipy\n",
    "from scipy import stats\n",
    "import math"
   ]
  },
  {
   "cell_type": "code",
   "execution_count": 2,
   "metadata": {
    "collapsed": true
   },
   "outputs": [],
   "source": [
    "%matplotlib inline"
   ]
  },
  {
   "cell_type": "code",
   "execution_count": 3,
   "metadata": {
    "collapsed": true
   },
   "outputs": [],
   "source": [
    "train = pd.read_csv(\"Dataset-football-train.txt\", delimiter=\"\\t\")"
   ]
  },
  {
   "cell_type": "code",
   "execution_count": 4,
   "metadata": {},
   "outputs": [
    {
     "data": {
      "text/html": [
       "<div>\n",
       "<table border=\"1\" class=\"dataframe\">\n",
       "  <thead>\n",
       "    <tr style=\"text-align: right;\">\n",
       "      <th></th>\n",
       "      <th>ID</th>\n",
       "      <th>Date</th>\n",
       "      <th>Opponent</th>\n",
       "      <th>Is_Home_or_Away</th>\n",
       "      <th>Is_Opponent_in_AP25_Preseason</th>\n",
       "      <th>Media</th>\n",
       "      <th>Label</th>\n",
       "    </tr>\n",
       "  </thead>\n",
       "  <tbody>\n",
       "    <tr>\n",
       "      <th>0</th>\n",
       "      <td>1</td>\n",
       "      <td>9/5/15</td>\n",
       "      <td>Texas</td>\n",
       "      <td>Home</td>\n",
       "      <td>Out</td>\n",
       "      <td>NBC</td>\n",
       "      <td>Win</td>\n",
       "    </tr>\n",
       "    <tr>\n",
       "      <th>1</th>\n",
       "      <td>2</td>\n",
       "      <td>9/12/15</td>\n",
       "      <td>Virginia</td>\n",
       "      <td>Away</td>\n",
       "      <td>Out</td>\n",
       "      <td>ABC</td>\n",
       "      <td>Win</td>\n",
       "    </tr>\n",
       "    <tr>\n",
       "      <th>2</th>\n",
       "      <td>3</td>\n",
       "      <td>9/19/15</td>\n",
       "      <td>Georgia Tech</td>\n",
       "      <td>Home</td>\n",
       "      <td>In</td>\n",
       "      <td>NBC</td>\n",
       "      <td>Win</td>\n",
       "    </tr>\n",
       "    <tr>\n",
       "      <th>3</th>\n",
       "      <td>4</td>\n",
       "      <td>9/26/15</td>\n",
       "      <td>UMass</td>\n",
       "      <td>Home</td>\n",
       "      <td>Out</td>\n",
       "      <td>NBC</td>\n",
       "      <td>Win</td>\n",
       "    </tr>\n",
       "    <tr>\n",
       "      <th>4</th>\n",
       "      <td>5</td>\n",
       "      <td>10/3/15</td>\n",
       "      <td>Clemson</td>\n",
       "      <td>Away</td>\n",
       "      <td>In</td>\n",
       "      <td>ABC</td>\n",
       "      <td>Lose</td>\n",
       "    </tr>\n",
       "    <tr>\n",
       "      <th>5</th>\n",
       "      <td>6</td>\n",
       "      <td>10/10/15</td>\n",
       "      <td>Navy</td>\n",
       "      <td>Home</td>\n",
       "      <td>Out</td>\n",
       "      <td>NBC</td>\n",
       "      <td>Win</td>\n",
       "    </tr>\n",
       "    <tr>\n",
       "      <th>6</th>\n",
       "      <td>7</td>\n",
       "      <td>10/17/15</td>\n",
       "      <td>USC</td>\n",
       "      <td>Home</td>\n",
       "      <td>In</td>\n",
       "      <td>NBC</td>\n",
       "      <td>Win</td>\n",
       "    </tr>\n",
       "    <tr>\n",
       "      <th>7</th>\n",
       "      <td>8</td>\n",
       "      <td>10/31/15</td>\n",
       "      <td>Temple</td>\n",
       "      <td>Away</td>\n",
       "      <td>Out</td>\n",
       "      <td>ABC</td>\n",
       "      <td>Win</td>\n",
       "    </tr>\n",
       "    <tr>\n",
       "      <th>8</th>\n",
       "      <td>9</td>\n",
       "      <td>11/7/15</td>\n",
       "      <td>PITT</td>\n",
       "      <td>Away</td>\n",
       "      <td>Out</td>\n",
       "      <td>ABC</td>\n",
       "      <td>Win</td>\n",
       "    </tr>\n",
       "    <tr>\n",
       "      <th>9</th>\n",
       "      <td>10</td>\n",
       "      <td>11/14/15</td>\n",
       "      <td>Wake Forest</td>\n",
       "      <td>Home</td>\n",
       "      <td>Out</td>\n",
       "      <td>NBC</td>\n",
       "      <td>Win</td>\n",
       "    </tr>\n",
       "    <tr>\n",
       "      <th>10</th>\n",
       "      <td>11</td>\n",
       "      <td>11/21/15</td>\n",
       "      <td>Boston College</td>\n",
       "      <td>Away</td>\n",
       "      <td>Out</td>\n",
       "      <td>NBC</td>\n",
       "      <td>Win</td>\n",
       "    </tr>\n",
       "    <tr>\n",
       "      <th>11</th>\n",
       "      <td>12</td>\n",
       "      <td>11/28/15</td>\n",
       "      <td>Stanford</td>\n",
       "      <td>Away</td>\n",
       "      <td>In</td>\n",
       "      <td>FOX</td>\n",
       "      <td>Lose</td>\n",
       "    </tr>\n",
       "    <tr>\n",
       "      <th>12</th>\n",
       "      <td>13</td>\n",
       "      <td>9/4/16</td>\n",
       "      <td>Texas</td>\n",
       "      <td>Away</td>\n",
       "      <td>Out</td>\n",
       "      <td>ABC</td>\n",
       "      <td>Lose</td>\n",
       "    </tr>\n",
       "    <tr>\n",
       "      <th>13</th>\n",
       "      <td>14</td>\n",
       "      <td>9/10/16</td>\n",
       "      <td>Nevada</td>\n",
       "      <td>Home</td>\n",
       "      <td>Out</td>\n",
       "      <td>NBC</td>\n",
       "      <td>Win</td>\n",
       "    </tr>\n",
       "    <tr>\n",
       "      <th>14</th>\n",
       "      <td>15</td>\n",
       "      <td>9/17/16</td>\n",
       "      <td>Michigan State</td>\n",
       "      <td>Home</td>\n",
       "      <td>Out</td>\n",
       "      <td>NBC</td>\n",
       "      <td>Lose</td>\n",
       "    </tr>\n",
       "    <tr>\n",
       "      <th>15</th>\n",
       "      <td>16</td>\n",
       "      <td>9/24/16</td>\n",
       "      <td>Duke</td>\n",
       "      <td>Home</td>\n",
       "      <td>Out</td>\n",
       "      <td>NBC</td>\n",
       "      <td>Lose</td>\n",
       "    </tr>\n",
       "    <tr>\n",
       "      <th>16</th>\n",
       "      <td>17</td>\n",
       "      <td>10/1/16</td>\n",
       "      <td>Syracuse</td>\n",
       "      <td>Home</td>\n",
       "      <td>Out</td>\n",
       "      <td>ESPN</td>\n",
       "      <td>Win</td>\n",
       "    </tr>\n",
       "    <tr>\n",
       "      <th>17</th>\n",
       "      <td>18</td>\n",
       "      <td>10/8/16</td>\n",
       "      <td>North Carolina State</td>\n",
       "      <td>Away</td>\n",
       "      <td>Out</td>\n",
       "      <td>ABC</td>\n",
       "      <td>Lose</td>\n",
       "    </tr>\n",
       "    <tr>\n",
       "      <th>18</th>\n",
       "      <td>19</td>\n",
       "      <td>10/15/16</td>\n",
       "      <td>Stanford</td>\n",
       "      <td>Home</td>\n",
       "      <td>In</td>\n",
       "      <td>NBC</td>\n",
       "      <td>Lose</td>\n",
       "    </tr>\n",
       "    <tr>\n",
       "      <th>19</th>\n",
       "      <td>20</td>\n",
       "      <td>10/29/16</td>\n",
       "      <td>Miami Florida</td>\n",
       "      <td>Home</td>\n",
       "      <td>Out</td>\n",
       "      <td>NBC</td>\n",
       "      <td>Win</td>\n",
       "    </tr>\n",
       "    <tr>\n",
       "      <th>20</th>\n",
       "      <td>21</td>\n",
       "      <td>11/5/16</td>\n",
       "      <td>Navy</td>\n",
       "      <td>Home</td>\n",
       "      <td>Out</td>\n",
       "      <td>CBS</td>\n",
       "      <td>Lose</td>\n",
       "    </tr>\n",
       "    <tr>\n",
       "      <th>21</th>\n",
       "      <td>22</td>\n",
       "      <td>11/12/16</td>\n",
       "      <td>Army</td>\n",
       "      <td>Home</td>\n",
       "      <td>Out</td>\n",
       "      <td>NBC</td>\n",
       "      <td>Win</td>\n",
       "    </tr>\n",
       "    <tr>\n",
       "      <th>22</th>\n",
       "      <td>23</td>\n",
       "      <td>11/19/16</td>\n",
       "      <td>Virginia Tech</td>\n",
       "      <td>Home</td>\n",
       "      <td>In</td>\n",
       "      <td>NBC</td>\n",
       "      <td>Lose</td>\n",
       "    </tr>\n",
       "    <tr>\n",
       "      <th>23</th>\n",
       "      <td>24</td>\n",
       "      <td>11/26/16</td>\n",
       "      <td>USC</td>\n",
       "      <td>Away</td>\n",
       "      <td>In</td>\n",
       "      <td>ABC</td>\n",
       "      <td>Lose</td>\n",
       "    </tr>\n",
       "  </tbody>\n",
       "</table>\n",
       "</div>"
      ],
      "text/plain": [
       "    ID      Date              Opponent Is_Home_or_Away  \\\n",
       "0    1    9/5/15                 Texas            Home   \n",
       "1    2   9/12/15              Virginia            Away   \n",
       "2    3   9/19/15          Georgia Tech            Home   \n",
       "3    4   9/26/15                 UMass            Home   \n",
       "4    5   10/3/15               Clemson            Away   \n",
       "5    6  10/10/15                  Navy            Home   \n",
       "6    7  10/17/15                   USC            Home   \n",
       "7    8  10/31/15                Temple            Away   \n",
       "8    9   11/7/15                  PITT            Away   \n",
       "9   10  11/14/15           Wake Forest            Home   \n",
       "10  11  11/21/15        Boston College            Away   \n",
       "11  12  11/28/15              Stanford            Away   \n",
       "12  13    9/4/16                 Texas            Away   \n",
       "13  14   9/10/16                Nevada            Home   \n",
       "14  15   9/17/16        Michigan State            Home   \n",
       "15  16   9/24/16                  Duke            Home   \n",
       "16  17   10/1/16              Syracuse            Home   \n",
       "17  18   10/8/16  North Carolina State            Away   \n",
       "18  19  10/15/16              Stanford            Home   \n",
       "19  20  10/29/16         Miami Florida            Home   \n",
       "20  21   11/5/16                  Navy            Home   \n",
       "21  22  11/12/16                  Army            Home   \n",
       "22  23  11/19/16         Virginia Tech            Home   \n",
       "23  24  11/26/16                   USC            Away   \n",
       "\n",
       "   Is_Opponent_in_AP25_Preseason Media Label  \n",
       "0                            Out   NBC   Win  \n",
       "1                            Out   ABC   Win  \n",
       "2                             In   NBC   Win  \n",
       "3                            Out   NBC   Win  \n",
       "4                             In   ABC  Lose  \n",
       "5                            Out   NBC   Win  \n",
       "6                             In   NBC   Win  \n",
       "7                            Out   ABC   Win  \n",
       "8                            Out   ABC   Win  \n",
       "9                            Out   NBC   Win  \n",
       "10                           Out   NBC   Win  \n",
       "11                            In   FOX  Lose  \n",
       "12                           Out   ABC  Lose  \n",
       "13                           Out   NBC   Win  \n",
       "14                           Out   NBC  Lose  \n",
       "15                           Out   NBC  Lose  \n",
       "16                           Out  ESPN   Win  \n",
       "17                           Out   ABC  Lose  \n",
       "18                            In   NBC  Lose  \n",
       "19                           Out   NBC   Win  \n",
       "20                           Out   CBS  Lose  \n",
       "21                           Out   NBC   Win  \n",
       "22                            In   NBC  Lose  \n",
       "23                            In   ABC  Lose  "
      ]
     },
     "execution_count": 4,
     "metadata": {},
     "output_type": "execute_result"
    }
   ],
   "source": [
    "train.head(24)"
   ]
  },
  {
   "cell_type": "code",
   "execution_count": 5,
   "metadata": {
    "collapsed": true
   },
   "outputs": [],
   "source": [
    "test = pd.read_csv(\"Dataset-football-test.txt\", delimiter=\"\\t\")"
   ]
  },
  {
   "cell_type": "code",
   "execution_count": 6,
   "metadata": {},
   "outputs": [
    {
     "data": {
      "text/html": [
       "<div>\n",
       "<table border=\"1\" class=\"dataframe\">\n",
       "  <thead>\n",
       "    <tr style=\"text-align: right;\">\n",
       "      <th></th>\n",
       "      <th>ID</th>\n",
       "      <th>Date</th>\n",
       "      <th>Opponent</th>\n",
       "      <th>Is_Home_or_Away</th>\n",
       "      <th>Is_Opponent_in_AP25_Preseason</th>\n",
       "      <th>Media</th>\n",
       "      <th>Label</th>\n",
       "    </tr>\n",
       "  </thead>\n",
       "  <tbody>\n",
       "    <tr>\n",
       "      <th>0</th>\n",
       "      <td>25</td>\n",
       "      <td>9/2/17</td>\n",
       "      <td>Temple</td>\n",
       "      <td>Home</td>\n",
       "      <td>Out</td>\n",
       "      <td>NBC</td>\n",
       "      <td>Win</td>\n",
       "    </tr>\n",
       "    <tr>\n",
       "      <th>1</th>\n",
       "      <td>26</td>\n",
       "      <td>9/9/17</td>\n",
       "      <td>Georgia</td>\n",
       "      <td>Home</td>\n",
       "      <td>In</td>\n",
       "      <td>NBC</td>\n",
       "      <td>Lose</td>\n",
       "    </tr>\n",
       "    <tr>\n",
       "      <th>2</th>\n",
       "      <td>27</td>\n",
       "      <td>9/16/17</td>\n",
       "      <td>Boston College</td>\n",
       "      <td>Away</td>\n",
       "      <td>Out</td>\n",
       "      <td>ESPN</td>\n",
       "      <td>Win</td>\n",
       "    </tr>\n",
       "    <tr>\n",
       "      <th>3</th>\n",
       "      <td>28</td>\n",
       "      <td>9/23/17</td>\n",
       "      <td>Michigan State</td>\n",
       "      <td>Away</td>\n",
       "      <td>Out</td>\n",
       "      <td>FOX</td>\n",
       "      <td>Win</td>\n",
       "    </tr>\n",
       "    <tr>\n",
       "      <th>4</th>\n",
       "      <td>29</td>\n",
       "      <td>9/30/17</td>\n",
       "      <td>Miami Ohio</td>\n",
       "      <td>Home</td>\n",
       "      <td>Out</td>\n",
       "      <td>NBC</td>\n",
       "      <td>Win</td>\n",
       "    </tr>\n",
       "  </tbody>\n",
       "</table>\n",
       "</div>"
      ],
      "text/plain": [
       "   ID     Date        Opponent Is_Home_or_Away Is_Opponent_in_AP25_Preseason  \\\n",
       "0  25   9/2/17          Temple            Home                           Out   \n",
       "1  26   9/9/17         Georgia            Home                            In   \n",
       "2  27  9/16/17  Boston College            Away                           Out   \n",
       "3  28  9/23/17  Michigan State            Away                           Out   \n",
       "4  29  9/30/17      Miami Ohio            Home                           Out   \n",
       "\n",
       "  Media Label  \n",
       "0   NBC   Win  \n",
       "1   NBC  Lose  \n",
       "2  ESPN   Win  \n",
       "3   FOX   Win  \n",
       "4   NBC   Win  "
      ]
     },
     "execution_count": 6,
     "metadata": {},
     "output_type": "execute_result"
    }
   ],
   "source": [
    "test.head()"
   ]
  },
  {
   "cell_type": "markdown",
   "metadata": {},
   "source": [
    "Here we create the function to check the information gain."
   ]
  },
  {
   "cell_type": "code",
   "execution_count": 7,
   "metadata": {
    "collapsed": true
   },
   "outputs": [],
   "source": [
    "from collections import defaultdict\n",
    "def information_gain(column_x, column_y, yes_label, no_label):\n",
    "    yes = 0\n",
    "    no = 0\n",
    "    for item in column_y:\n",
    "        if item == yes_label:\n",
    "            yes += 1\n",
    "        else:\n",
    "            no += 1\n",
    "    try:\n",
    "        hy1 = (-float(yes)/len(column_y))* math.log(float(yes)/len(column_y), 2)\n",
    "    except:\n",
    "        hy1=0\n",
    "    try:\n",
    "        hy2 = (-float(no)/len(column_y))*math.log(float(no)/len(column_y), 2)\n",
    "    except:\n",
    "        hy2=0\n",
    "    H_Y = hy1 + hy2\n",
    "    options = defaultdict(list)\n",
    "    for index, item in enumerate(column_x):\n",
    "        options[item].append(index)\n",
    "     \n",
    "    y_given_x = 0\n",
    "    for item in options:\n",
    "        y = 0\n",
    "        n = 0\n",
    "        for index in options[item]:\n",
    "            if column_y[index] == yes_label:\n",
    "                y += 1\n",
    "            else: \n",
    "                n += 1\n",
    "                \n",
    "        try:\n",
    "            y_given_x_yes = (float(y)/len(column_x))*(-float(y)/len(item))* (math.log(float(y)/len(item), 2))\n",
    "        except:\n",
    "            y_given_x_yes = 0\n",
    "        try:\n",
    "            y_given_x_no = (float(n)/len(column_x))*(-float(n)/len(item))* (math.log(float(n)/len(item), 2))\n",
    "        except:\n",
    "            y_given_x_no = 0\n",
    "        y_given_x += y_given_x_yes + y_given_x_no\n",
    "    information_gain = abs(H_Y - y_given_x)\n",
    "    print(information_gain)\n",
    "    return"
   ]
  },
  {
   "cell_type": "code",
   "execution_count": 8,
   "metadata": {
    "collapsed": true
   },
   "outputs": [],
   "source": [
    "Label = list(train[\"Label\"])"
   ]
  },
  {
   "cell_type": "markdown",
   "metadata": {
    "collapsed": true
   },
   "source": [
    "The dates are exact, so I decided to sort them into buckets based on month and year. This way if we actually split on date it is information that might be helpful in predicting. Otherwise, since there's no way the team would play two games on one day, the date would never be useful."
   ]
  },
  {
   "cell_type": "code",
   "execution_count": 10,
   "metadata": {},
   "outputs": [
    {
     "name": "stderr",
     "output_type": "stream",
     "text": [
      "/Users/kailee/anaconda/lib/python2.7/site-packages/ipykernel/__main__.py:4: SettingWithCopyWarning: \n",
      "A value is trying to be set on a copy of a slice from a DataFrame\n",
      "\n",
      "See the caveats in the documentation: http://pandas.pydata.org/pandas-docs/stable/indexing.html#indexing-view-versus-copy\n",
      "/Users/kailee/anaconda/lib/python2.7/site-packages/ipykernel/__main__.py:8: SettingWithCopyWarning: \n",
      "A value is trying to be set on a copy of a slice from a DataFrame\n",
      "\n",
      "See the caveats in the documentation: http://pandas.pydata.org/pandas-docs/stable/indexing.html#indexing-view-versus-copy\n",
      "/Users/kailee/anaconda/lib/python2.7/site-packages/ipykernel/__main__.py:12: SettingWithCopyWarning: \n",
      "A value is trying to be set on a copy of a slice from a DataFrame\n",
      "\n",
      "See the caveats in the documentation: http://pandas.pydata.org/pandas-docs/stable/indexing.html#indexing-view-versus-copy\n",
      "/Users/kailee/anaconda/lib/python2.7/site-packages/ipykernel/__main__.py:6: SettingWithCopyWarning: \n",
      "A value is trying to be set on a copy of a slice from a DataFrame\n",
      "\n",
      "See the caveats in the documentation: http://pandas.pydata.org/pandas-docs/stable/indexing.html#indexing-view-versus-copy\n",
      "/Users/kailee/anaconda/lib/python2.7/site-packages/ipykernel/__main__.py:10: SettingWithCopyWarning: \n",
      "A value is trying to be set on a copy of a slice from a DataFrame\n",
      "\n",
      "See the caveats in the documentation: http://pandas.pydata.org/pandas-docs/stable/indexing.html#indexing-view-versus-copy\n",
      "/Users/kailee/anaconda/lib/python2.7/site-packages/ipykernel/__main__.py:14: SettingWithCopyWarning: \n",
      "A value is trying to be set on a copy of a slice from a DataFrame\n",
      "\n",
      "See the caveats in the documentation: http://pandas.pydata.org/pandas-docs/stable/indexing.html#indexing-view-versus-copy\n"
     ]
    }
   ],
   "source": [
    "i = 0\n",
    "for item in train[\"Date\"]:\n",
    "    if item[0] == \"9\" and item[len(item)-1] ==\"5\":\n",
    "        train[\"Date\"][i] = \"sept_15\"\n",
    "    elif item[0] == \"9\" and item[len(item)-1] ==\"6\":\n",
    "        train[\"Date\"][i] = \"sept_16\"\n",
    "    elif item[1] == \"0\" and item[len(item)-1] ==\"5\":\n",
    "        train[\"Date\"][i] = \"oct_15\"\n",
    "    elif item[1] == \"0\" and item[len(item)-1] ==\"6\":\n",
    "        train[\"Date\"][i] = \"oct_16\"\n",
    "    elif item[1] == \"1\" and item[len(item)-1] ==\"5\":\n",
    "        train[\"Date\"][i] = \"nov_15\"\n",
    "    else:\n",
    "        train[\"Date\"][i] = \"nov_16\"\n",
    "    i += 1\n",
    "    "
   ]
  },
  {
   "cell_type": "code",
   "execution_count": 11,
   "metadata": {},
   "outputs": [
    {
     "data": {
      "text/plain": [
       "0     sept_15\n",
       "1     sept_15\n",
       "2     sept_15\n",
       "3     sept_15\n",
       "4      oct_15\n",
       "5      oct_15\n",
       "6      oct_15\n",
       "7      oct_15\n",
       "8      nov_15\n",
       "9      nov_15\n",
       "10     nov_15\n",
       "11     nov_15\n",
       "12    sept_16\n",
       "13    sept_16\n",
       "14    sept_16\n",
       "15    sept_16\n",
       "16     oct_16\n",
       "17     oct_16\n",
       "18     oct_16\n",
       "19     oct_16\n",
       "20     nov_16\n",
       "21     nov_16\n",
       "22     nov_16\n",
       "23     nov_16\n",
       "Name: Date, dtype: object"
      ]
     },
     "execution_count": 11,
     "metadata": {},
     "output_type": "execute_result"
    }
   ],
   "source": [
    "train[\"Date\"]"
   ]
  },
  {
   "cell_type": "markdown",
   "metadata": {},
   "source": [
    "I turn all of the feature columns into lists so that they are in the proper format to go into my information gain function."
   ]
  },
  {
   "cell_type": "code",
   "execution_count": 12,
   "metadata": {
    "collapsed": true
   },
   "outputs": [],
   "source": [
    "Media = list(train[\"Media\"])\n",
    "H_A = list(train[\"Is_Home_or_Away\"])\n",
    "Date = list(train[\"Date\"])\n",
    "Preseason = list(train[\"Is_Opponent_in_AP25_Preseason\"])\n",
    "Opponent = list(train[\"Opponent\"])"
   ]
  },
  {
   "cell_type": "code",
   "execution_count": 13,
   "metadata": {},
   "outputs": [
    {
     "name": "stdout",
     "output_type": "stream",
     "text": [
      "IG for Media is:\n",
      "3.5119220121\n",
      "IG for H_A is:\n",
      "2.52454807158\n",
      "IG for Date is:\n",
      "0.491375199749\n",
      "IG for Preseason is:\n",
      "5.92426380405\n",
      "IG for Opponent is:\n",
      "0.567158476583\n"
     ]
    }
   ],
   "source": [
    "print(\"IG for Media is:\")\n",
    "information_gain(Media, Label, \"Win\", \"Lose\")\n",
    "print(\"IG for H_A is:\")\n",
    "information_gain(H_A, Label, \"Win\", \"Lose\")\n",
    "print(\"IG for Date is:\")\n",
    "information_gain(Date, Label, \"Win\", \"Lose\")\n",
    "print(\"IG for Preseason is:\")\n",
    "information_gain(Preseason, Label, \"Win\", \"Lose\")\n",
    "print(\"IG for Opponent is:\")\n",
    "information_gain(Opponent, Label, \"Win\", \"Lose\")"
   ]
  },
  {
   "cell_type": "markdown",
   "metadata": {
    "collapsed": true
   },
   "source": [
    "Preseason has the highest information gain, so that is what we will branch on. This means that we need to sort all our other values into either branch 1 or branch 2 depending on whether they were in or out of the preseason."
   ]
  },
  {
   "cell_type": "code",
   "execution_count": 15,
   "metadata": {
    "collapsed": true
   },
   "outputs": [],
   "source": [
    "Media1 = []\n",
    "H_A1 = []\n",
    "Date1 = []\n",
    "Opponent1 = []\n",
    "Label1 = []\n",
    "Media2 = []\n",
    "H_A2 = []\n",
    "Date2 = []\n",
    "Opponent2 = []\n",
    "Label2 = []\n",
    "for index, item in enumerate(Preseason):\n",
    "    if item == \"In\":\n",
    "        Media1.append(Media[index])\n",
    "        H_A1.append(H_A[index])\n",
    "        Date1.append(Date[index])\n",
    "        Opponent1.append(Opponent[index])\n",
    "        Label1.append(Label[index])\n",
    "    else:\n",
    "        Media2.append(Media[index])\n",
    "        H_A2.append(H_A[index])\n",
    "        Date2.append(Date[index])\n",
    "        Opponent2.append(Opponent[index])\n",
    "        Label2.append(Label[index])\n",
    "In = pd.DataFrame()\n",
    "Out = pd.DataFrame()\n",
    "In[\"Media\"] = Media1\n",
    "In[\"H_A\"] = H_A1\n",
    "In[\"Date\"] = Date1\n",
    "In[\"Opponent\"] = Opponent1\n",
    "In[\"Label\"] = Label1\n",
    "Out[\"Media\"] = Media2\n",
    "Out[\"H_A\"] = H_A2\n",
    "Out[\"Date\"] = Date2\n",
    "Out[\"Opponent\"] = Opponent2\n",
    "Out[\"Label\"] = Label2"
   ]
  },
  {
   "cell_type": "code",
   "execution_count": 16,
   "metadata": {},
   "outputs": [
    {
     "data": {
      "text/html": [
       "<div>\n",
       "<table border=\"1\" class=\"dataframe\">\n",
       "  <thead>\n",
       "    <tr style=\"text-align: right;\">\n",
       "      <th></th>\n",
       "      <th>Media</th>\n",
       "      <th>H_A</th>\n",
       "      <th>Date</th>\n",
       "      <th>Opponent</th>\n",
       "      <th>Label</th>\n",
       "    </tr>\n",
       "  </thead>\n",
       "  <tbody>\n",
       "    <tr>\n",
       "      <th>0</th>\n",
       "      <td>NBC</td>\n",
       "      <td>Home</td>\n",
       "      <td>sept_15</td>\n",
       "      <td>Georgia Tech</td>\n",
       "      <td>Win</td>\n",
       "    </tr>\n",
       "    <tr>\n",
       "      <th>1</th>\n",
       "      <td>ABC</td>\n",
       "      <td>Away</td>\n",
       "      <td>oct_15</td>\n",
       "      <td>Clemson</td>\n",
       "      <td>Lose</td>\n",
       "    </tr>\n",
       "    <tr>\n",
       "      <th>2</th>\n",
       "      <td>NBC</td>\n",
       "      <td>Home</td>\n",
       "      <td>oct_15</td>\n",
       "      <td>USC</td>\n",
       "      <td>Win</td>\n",
       "    </tr>\n",
       "    <tr>\n",
       "      <th>3</th>\n",
       "      <td>FOX</td>\n",
       "      <td>Away</td>\n",
       "      <td>nov_15</td>\n",
       "      <td>Stanford</td>\n",
       "      <td>Lose</td>\n",
       "    </tr>\n",
       "    <tr>\n",
       "      <th>4</th>\n",
       "      <td>NBC</td>\n",
       "      <td>Home</td>\n",
       "      <td>oct_16</td>\n",
       "      <td>Stanford</td>\n",
       "      <td>Lose</td>\n",
       "    </tr>\n",
       "  </tbody>\n",
       "</table>\n",
       "</div>"
      ],
      "text/plain": [
       "  Media   H_A     Date      Opponent Label\n",
       "0   NBC  Home  sept_15  Georgia Tech   Win\n",
       "1   ABC  Away   oct_15       Clemson  Lose\n",
       "2   NBC  Home   oct_15           USC   Win\n",
       "3   FOX  Away   nov_15      Stanford  Lose\n",
       "4   NBC  Home   oct_16      Stanford  Lose"
      ]
     },
     "execution_count": 16,
     "metadata": {},
     "output_type": "execute_result"
    }
   ],
   "source": [
    "In.head()"
   ]
  },
  {
   "cell_type": "code",
   "execution_count": 17,
   "metadata": {},
   "outputs": [
    {
     "name": "stdout",
     "output_type": "stream",
     "text": [
      "IG for Media in In is:\n",
      "0.453381877644\n",
      "IG for H_A in In is:\n",
      "0.44400137237\n",
      "IG for Date in In is:\n",
      "0.408691896551\n",
      "IG for Opponent in In is:\n",
      "0.428679360789\n"
     ]
    }
   ],
   "source": [
    "print(\"IG for Media in In is:\")\n",
    "information_gain(Media1, Label1, \"Win\", \"Lose\")\n",
    "print(\"IG for H_A in In is:\")\n",
    "information_gain(H_A1, Label1, \"Win\", \"Lose\")\n",
    "print(\"IG for Date in In is:\")\n",
    "information_gain(Date1, Label1, \"Win\", \"Lose\")\n",
    "print(\"IG for Opponent in In is:\")\n",
    "information_gain(Opponent1, Label1, \"Win\", \"Lose\")"
   ]
  },
  {
   "cell_type": "markdown",
   "metadata": {},
   "source": [
    "We will split on Media since this is the highest information gain."
   ]
  },
  {
   "cell_type": "code",
   "execution_count": 18,
   "metadata": {
    "collapsed": true
   },
   "outputs": [],
   "source": [
    "H_A_nbc = []\n",
    "H_A_abc = []\n",
    "H_A_fox = []\n",
    "Label_nbc = []\n",
    "Label_abc = []\n",
    "Label_fox = []\n",
    "Date_nbc = []\n",
    "Date_abc = []\n",
    "Date_fox = []\n",
    "Opponent_nbc = []\n",
    "Opponent_abc = []\n",
    "Opponent_fox = []\n",
    "for index, item in enumerate(Media1):\n",
    "    if item == \"NBC\":\n",
    "        H_A_nbc.append(H_A1[index])\n",
    "        Date_nbc.append(Date1[index])\n",
    "        Opponent_nbc.append(Opponent1[index])\n",
    "        Label_nbc.append(Label1[index])\n",
    "    elif item == \"ABC\":\n",
    "        H_A_abc.append(H_A1[index])\n",
    "        Date_abc.append(Date1[index])\n",
    "        Opponent_abc.append(Opponent1[index])\n",
    "        Label_abc.append(Label1[index])\n",
    "    else:\n",
    "        H_A_fox.append(H_A1[index])\n",
    "        Date_fox.append(Date1[index])\n",
    "        Opponent_fox.append(Opponent1[index])\n",
    "        Label_fox.append(Label1[index])"
   ]
  },
  {
   "cell_type": "markdown",
   "metadata": {},
   "source": [
    "Now we return to the Out branch."
   ]
  },
  {
   "cell_type": "code",
   "execution_count": 19,
   "metadata": {},
   "outputs": [
    {
     "data": {
      "text/html": [
       "<div>\n",
       "<table border=\"1\" class=\"dataframe\">\n",
       "  <thead>\n",
       "    <tr style=\"text-align: right;\">\n",
       "      <th></th>\n",
       "      <th>Media</th>\n",
       "      <th>H_A</th>\n",
       "      <th>Date</th>\n",
       "      <th>Opponent</th>\n",
       "      <th>Label</th>\n",
       "    </tr>\n",
       "  </thead>\n",
       "  <tbody>\n",
       "    <tr>\n",
       "      <th>0</th>\n",
       "      <td>NBC</td>\n",
       "      <td>Home</td>\n",
       "      <td>sept_15</td>\n",
       "      <td>Texas</td>\n",
       "      <td>Win</td>\n",
       "    </tr>\n",
       "    <tr>\n",
       "      <th>1</th>\n",
       "      <td>ABC</td>\n",
       "      <td>Away</td>\n",
       "      <td>sept_15</td>\n",
       "      <td>Virginia</td>\n",
       "      <td>Win</td>\n",
       "    </tr>\n",
       "    <tr>\n",
       "      <th>2</th>\n",
       "      <td>NBC</td>\n",
       "      <td>Home</td>\n",
       "      <td>sept_15</td>\n",
       "      <td>UMass</td>\n",
       "      <td>Win</td>\n",
       "    </tr>\n",
       "    <tr>\n",
       "      <th>3</th>\n",
       "      <td>NBC</td>\n",
       "      <td>Home</td>\n",
       "      <td>oct_15</td>\n",
       "      <td>Navy</td>\n",
       "      <td>Win</td>\n",
       "    </tr>\n",
       "    <tr>\n",
       "      <th>4</th>\n",
       "      <td>ABC</td>\n",
       "      <td>Away</td>\n",
       "      <td>oct_15</td>\n",
       "      <td>Temple</td>\n",
       "      <td>Win</td>\n",
       "    </tr>\n",
       "  </tbody>\n",
       "</table>\n",
       "</div>"
      ],
      "text/plain": [
       "  Media   H_A     Date  Opponent Label\n",
       "0   NBC  Home  sept_15     Texas   Win\n",
       "1   ABC  Away  sept_15  Virginia   Win\n",
       "2   NBC  Home  sept_15     UMass   Win\n",
       "3   NBC  Home   oct_15      Navy   Win\n",
       "4   ABC  Away   oct_15    Temple   Win"
      ]
     },
     "execution_count": 19,
     "metadata": {},
     "output_type": "execute_result"
    }
   ],
   "source": [
    "Out.head()"
   ]
  },
  {
   "cell_type": "code",
   "execution_count": 20,
   "metadata": {},
   "outputs": [
    {
     "name": "stdout",
     "output_type": "stream",
     "text": [
      "IG for Media in Out is:\n",
      "2.49746609611\n",
      "IG for H_A in Out is:\n",
      "1.70140255558\n",
      "IG for Date in Out is:\n",
      "0.376915748979\n",
      "IG for Opponent in Out is:\n",
      "0.470218797116\n"
     ]
    }
   ],
   "source": [
    "print(\"IG for Media in Out is:\")\n",
    "information_gain(Media2, Label2, \"Win\", \"Lose\")\n",
    "print(\"IG for H_A in Out is:\")\n",
    "information_gain(H_A2, Label2, \"Win\", \"Lose\")\n",
    "print(\"IG for Date in Out is:\")\n",
    "information_gain(Date2, Label2, \"Win\", \"Lose\")\n",
    "print(\"IG for Opponent in Out is:\")\n",
    "information_gain(Opponent2, Label2, \"Win\", \"Lose\")"
   ]
  },
  {
   "cell_type": "markdown",
   "metadata": {},
   "source": [
    "We will split on Media since this is the highest information gain."
   ]
  },
  {
   "cell_type": "code",
   "execution_count": 21,
   "metadata": {
    "collapsed": true
   },
   "outputs": [],
   "source": [
    "H_A_nbc2 = []\n",
    "H_A_abc2 = []\n",
    "H_A_cbs2 = []\n",
    "H_A_espn2 = []\n",
    "Label_nbc2 = []\n",
    "Label_abc2 = []\n",
    "Label_cbs2 = []\n",
    "Label_espn2 = []\n",
    "Date_nbc2 = []\n",
    "Date_abc2 = []\n",
    "Date_cbs2 = []\n",
    "Date_espn2 = []\n",
    "Opponent_nbc2 = []\n",
    "Opponent_abc2 = []\n",
    "Opponent_cbs2 = []\n",
    "Opponent_espn2 = []\n",
    "for index, item in enumerate(Media2):\n",
    "    if item == \"NBC\":\n",
    "        H_A_nbc2.append(H_A2[index])\n",
    "        Date_nbc2.append(Date2[index])\n",
    "        Opponent_nbc2.append(Opponent2[index])\n",
    "        Label_nbc2.append(Label2[index])\n",
    "    elif item == \"ABC\":\n",
    "        H_A_abc2.append(H_A2[index])\n",
    "        Date_abc2.append(Date2[index])\n",
    "        Opponent_abc2.append(Opponent2[index])\n",
    "        Label_abc2.append(Label2[index])\n",
    "    elif item == \"CBS\":\n",
    "        H_A_cbs2.append(H_A2[index])\n",
    "        Date_cbs2.append(Date2[index])\n",
    "        Opponent_cbs2.append(Opponent2[index])\n",
    "        Label_cbs2.append(Label2[index])\n",
    "    else:\n",
    "        H_A_espn2.append(H_A2[index])\n",
    "        Date_espn2.append(Date2[index])\n",
    "        Opponent_espn2.append(Opponent2[index])\n",
    "        Label_espn2.append(Label2[index])"
   ]
  },
  {
   "cell_type": "markdown",
   "metadata": {},
   "source": [
    "Now we calculate the information gain for these four branches: Out_NBC and Out_ABC. We don't have to worry about Out_CBS and Out_ESPN since they each only have one game contained within them, so there is no possibility of splitting, rather they are the final nodes. "
   ]
  },
  {
   "cell_type": "code",
   "execution_count": 22,
   "metadata": {},
   "outputs": [
    {
     "name": "stdout",
     "output_type": "stream",
     "text": [
      "['sept_15', 'sept_15', 'sept_15', 'oct_15', 'oct_15', 'nov_15', 'nov_15', 'nov_15', 'sept_16', 'sept_16', 'sept_16', 'sept_16', 'oct_16', 'oct_16', 'oct_16', 'nov_16', 'nov_16']\n"
     ]
    }
   ],
   "source": [
    "print(Date2)"
   ]
  },
  {
   "cell_type": "code",
   "execution_count": 23,
   "metadata": {},
   "outputs": [
    {
     "name": "stdout",
     "output_type": "stream",
     "text": [
      "IG for H_A in Out_NBC is:\n",
      "1.56093787441\n",
      "IG for Date in Out_NBC is:\n",
      "0.240355884586\n",
      "IG for Opponent in Out_NBC is:\n",
      "0.321663178886\n"
     ]
    }
   ],
   "source": [
    "print(\"IG for H_A in Out_NBC is:\")\n",
    "information_gain(H_A_nbc2, Label_nbc2, \"Win\", \"Lose\")\n",
    "print(\"IG for Date in Out_NBC is:\")\n",
    "information_gain(Date_nbc2, Label_nbc2, \"Win\", \"Lose\")\n",
    "print(\"IG for Opponent in Out_NBC is:\")\n",
    "information_gain(Opponent_nbc2, Label_nbc2, \"Win\", \"Lose\")"
   ]
  },
  {
   "cell_type": "markdown",
   "metadata": {},
   "source": [
    "This means we will split on Home/Away for Out_NBC. Thus we will create Out_NBC_Home and Out_NBC_Away."
   ]
  },
  {
   "cell_type": "code",
   "execution_count": 24,
   "metadata": {},
   "outputs": [
    {
     "name": "stdout",
     "output_type": "stream",
     "text": [
      "IG for H_A in Out_ABC is:\n",
      "0.584183719779\n",
      "IG for Date in Out_ABC is:\n",
      "0.552034063122\n",
      "IG for Opponent in Out_ABC is:\n",
      "0.57368877302\n"
     ]
    }
   ],
   "source": [
    "print(\"IG for H_A in Out_ABC is:\")\n",
    "information_gain(H_A_abc2, Label_abc2, \"Win\", \"Lose\")\n",
    "print(\"IG for Date in Out_ABC is:\")\n",
    "information_gain(Date_abc2, Label_abc2, \"Win\", \"Lose\")\n",
    "print(\"IG for Opponent in Out_ABC is:\")\n",
    "information_gain(Opponent_abc2, Label_abc2, \"Win\", \"Lose\")"
   ]
  },
  {
   "cell_type": "markdown",
   "metadata": {},
   "source": [
    "We will split on Opponent for Out_ABC, since all the games in Out_ABC are Away so it makes no sense to split on Home/Away. This means we will create Out_ABC_Virginia, Out_ABC_Temple, Out_ABC_Pitt, Out_ABC_Texas, and Out_ABC_NCState. However, these each only contain one game, so we do not need to calculate the information gain or split any further."
   ]
  },
  {
   "cell_type": "code",
   "execution_count": 25,
   "metadata": {},
   "outputs": [
    {
     "name": "stdout",
     "output_type": "stream",
     "text": [
      "['sept_15', 'sept_15', 'oct_15', 'nov_15', 'nov_15', 'sept_16', 'sept_16', 'sept_16', 'oct_16', 'nov_16']\n"
     ]
    }
   ],
   "source": [
    "print(Date_nbc2)"
   ]
  },
  {
   "cell_type": "markdown",
   "metadata": {},
   "source": [
    "Now, let us return to the In branch that is being split on Media. We have In_NBC, In_ABC, and In_FOX, however In_FOX only has one game so has no need for any new branches. Within In_ABC there are only two games and both of them are losses, so we also have no need to split. "
   ]
  },
  {
   "cell_type": "code",
   "execution_count": 26,
   "metadata": {},
   "outputs": [
    {
     "name": "stdout",
     "output_type": "stream",
     "text": [
      "IG for H_A in In_NBC is:\n",
      "0.5\n",
      "IG for Date in In_NBC is:\n",
      "0.576617011622\n",
      "IG for Opponent in In_NBC is:\n",
      "0.62832077057\n"
     ]
    }
   ],
   "source": [
    "print(\"IG for H_A in In_NBC is:\")\n",
    "information_gain(H_A_nbc, Label_nbc, \"Win\", \"Lose\")\n",
    "print(\"IG for Date in In_NBC is:\")\n",
    "information_gain(Date_nbc, Label_nbc, \"Win\", \"Lose\")\n",
    "print(\"IG for Opponent in In_NBC is:\")\n",
    "information_gain(Opponent_nbc, Label_nbc, \"Win\", \"Lose\")"
   ]
  },
  {
   "cell_type": "markdown",
   "metadata": {},
   "source": [
    "This means we will split on Opponent. Thus we will create In_NBC_GT, In_NBC_USC, In_NBC_Stanford, and In_NBC_VT. However, for each of these there is only one game, thus there is no reason to calculate the information gain after."
   ]
  },
  {
   "cell_type": "markdown",
   "metadata": {},
   "source": [
    "Now we return to the Out branch, and create the lists for Out_NBC_Home and Out_NBC_Away."
   ]
  },
  {
   "cell_type": "code",
   "execution_count": 27,
   "metadata": {
    "collapsed": true
   },
   "outputs": [],
   "source": [
    "Label_home = []\n",
    "Label_away = []\n",
    "Date_home = []\n",
    "Date_away = []\n",
    "Opponent_home = []\n",
    "Opponent_away = []\n",
    "for index, item in enumerate(H_A_nbc2):\n",
    "    if item == \"Home\":\n",
    "        Date_home.append(Date_nbc2[index])\n",
    "        Opponent_home.append(Opponent_nbc2[index])\n",
    "        Label_home.append(Label_nbc2[index])\n",
    "    else:\n",
    "        Date_away.append(Date_nbc2[index])\n",
    "        Opponent_away.append(Opponent_nbc2[index])\n",
    "        Label_away.append(Label_nbc2[index])"
   ]
  },
  {
   "cell_type": "code",
   "execution_count": 28,
   "metadata": {},
   "outputs": [
    {
     "name": "stdout",
     "output_type": "stream",
     "text": [
      "['Win']\n"
     ]
    }
   ],
   "source": [
    "print(Label_away)"
   ]
  },
  {
   "cell_type": "markdown",
   "metadata": {},
   "source": [
    "There is only one game in Out_NBC_Away, so we are done with this branch and do not need to calculate information gain. However, we do need to calculate information gain for Out_NBC_Home to decide what to split on next."
   ]
  },
  {
   "cell_type": "code",
   "execution_count": 29,
   "metadata": {},
   "outputs": [
    {
     "name": "stdout",
     "output_type": "stream",
     "text": [
      "IG for Date in Out_NBC_Home is:\n",
      "0.298659226585\n",
      "IG for Opponent in Out_NBC_Home is:\n",
      "0.349682813507\n"
     ]
    }
   ],
   "source": [
    "print(\"IG for Date in Out_NBC_Home is:\")\n",
    "information_gain(Date_home, Label_home, \"Win\", \"Lose\")\n",
    "print(\"IG for Opponent in Out_NBC_Home is:\")\n",
    "information_gain(Opponent_home, Label_home, \"Win\", \"Lose\")"
   ]
  },
  {
   "cell_type": "markdown",
   "metadata": {},
   "source": [
    "So now we will split on Opponent for Out_NBC_Home. However, this splits our tree into all individual games, so now there is no more information to be gained and our decision tree is done."
   ]
  },
  {
   "cell_type": "markdown",
   "metadata": {},
   "source": [
    "Now that we have split the tree until there is no information gain or all the features have been used, we can test our tree. For a visualization of the tree please see the PDF file. Below we will write the code to test our new data according to the decision tree branch rules. "
   ]
  },
  {
   "cell_type": "code",
   "execution_count": 32,
   "metadata": {
    "collapsed": true
   },
   "outputs": [],
   "source": [
    "def predict_outcome(dataframe):\n",
    "    predictions = []\n",
    "    for index, row in dataframe.iterrows():\n",
    "        if row[\"Is_Opponent_in_AP25_Preseason\"] == \"In\":\n",
    "            if row[\"Media\"] == \"Fox\" or \"ABC\":\n",
    "                predictions.append(\"Lose\")\n",
    "            elif row[\"Media\"] == \"NBC\":\n",
    "                if row[\"Opponent\"] == \"Virginia Tech\" or \"Stanford\":\n",
    "                    predictions.append(\"Lose\")\n",
    "                elif row[\"Opponent\"] == \"USC\" or \"Georgia Tech\":\n",
    "                    predictions.append(\"Win\")\n",
    "                else:\n",
    "                    predictions.append(\"Win\")\n",
    "            else:\n",
    "                predictions.append(\"Win\")\n",
    "        else:\n",
    "            if row[\"Media\"] == \"CBS\":\n",
    "                predictions.append(\"Lose\")\n",
    "            elif row[\"Media\"] == \"ESPN\":\n",
    "                predictions.append(\"Win\")\n",
    "            elif row[\"Media\"] == \"ABC\":\n",
    "                if row[\"Opponent\"] == \"Virginia\" or \"Temple\" or \"PITT\":\n",
    "                    predictions.append(\"Win\")\n",
    "                elif row[\"Opponent\"] == \"Texas\" or \"North Carolina State\":\n",
    "                    predictions.append(\"Lose\")\n",
    "                else:\n",
    "                    predictions.append(\"Win\")\n",
    "            elif row[\"Media\"] == \"NBC\":\n",
    "                if row[\"Opponent\"] == \"Texas\" or \"Army\" or \"UMass\" or \"Nevada\" or \"Wake Forest\" or \"Navy\" or \"Miami Florida\":\n",
    "                    predictions.append(\"Win\")\n",
    "                elif row[\"Opponent\"] == \"Michigan State\" or \"Duke\":\n",
    "                    predictions.append(\"Lose\")\n",
    "                else:\n",
    "                    predictions.append(\"Win\")\n",
    "            else:\n",
    "                predictions.append(\"Win\")\n",
    "    return predictions"
   ]
  },
  {
   "cell_type": "code",
   "execution_count": 34,
   "metadata": {},
   "outputs": [],
   "source": [
    "predictions = predict_outcome(test)"
   ]
  },
  {
   "cell_type": "code",
   "execution_count": 51,
   "metadata": {},
   "outputs": [],
   "source": [
    "actual = list(test[\"Label\"])"
   ]
  },
  {
   "cell_type": "code",
   "execution_count": 59,
   "metadata": {},
   "outputs": [
    {
     "data": {
      "text/plain": [
       "1.0"
      ]
     },
     "execution_count": 59,
     "metadata": {},
     "output_type": "execute_result"
    }
   ],
   "source": [
    "precision_score(actual, predictions, pos_label=\"Win\")"
   ]
  },
  {
   "cell_type": "code",
   "execution_count": 60,
   "metadata": {},
   "outputs": [
    {
     "data": {
      "text/plain": [
       "0.88888888888888884"
      ]
     },
     "execution_count": 60,
     "metadata": {},
     "output_type": "execute_result"
    }
   ],
   "source": [
    "recall_score(actual, predictions, pos_label=\"Win\")"
   ]
  },
  {
   "cell_type": "code",
   "execution_count": 61,
   "metadata": {},
   "outputs": [
    {
     "data": {
      "text/plain": [
       "0.94117647058823528"
      ]
     },
     "execution_count": 61,
     "metadata": {},
     "output_type": "execute_result"
    }
   ],
   "source": [
    "f1_score(actual, predictions, pos_label=\"Win\")"
   ]
  },
  {
   "cell_type": "code",
   "execution_count": null,
   "metadata": {
    "collapsed": true
   },
   "outputs": [],
   "source": []
  }
 ],
 "metadata": {
  "anaconda-cloud": {},
  "kernelspec": {
   "display_name": "Python 3",
   "language": "python",
   "name": "python3"
  },
  "language_info": {
   "codemirror_mode": {
    "name": "ipython",
    "version": 3
   },
   "file_extension": ".py",
   "mimetype": "text/x-python",
   "name": "python",
   "nbconvert_exporter": "python",
   "pygments_lexer": "ipython3",
   "version": "3.6.5"
  }
 },
 "nbformat": 4,
 "nbformat_minor": 1
}
